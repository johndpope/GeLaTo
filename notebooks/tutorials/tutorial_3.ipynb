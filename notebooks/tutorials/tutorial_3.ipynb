{
 "cells": [
  {
   "cell_type": "markdown",
   "metadata": {},
   "source": [
    "# Tutorial 3: Example of system of pdes\n",
    "\n",
    "Let's consider the following weak formulation\n",
    "\n",
    "$$\n",
    "  \\int_{\\Omega} \\nabla v_1 \\cdot \\nabla u_1 + \\partial_x v_1 \\partial_y u_2 ~d\\Omega = \\ldots \n",
    "  \\\\\n",
    "  \\int_{\\Omega} \\partial_y v_2 \\partial_x u_1  ~d\\Omega  = \\ldots \n",
    "$$\n",
    "\n",
    "where $\\Omega$ is the unit square, the trial function is $(u_1, u_2)$ while the test function is $(v_1, v_2)$. Here, we consider that every component lives in a discrete subspace of $H^1(\\Omega)$."
   ]
  },
  {
   "cell_type": "code",
   "execution_count": 20,
   "metadata": {
    "collapsed": true
   },
   "outputs": [],
   "source": [
    "from glt.expression import glt_symbol\n",
    "\n",
    "discretization = {\"n_elements\": [16, 16], \"degrees\": [2,2]}"
   ]
  },
  {
   "cell_type": "markdown",
   "metadata": {
    "collapsed": true
   },
   "source": [
    "In order to define the symbol, we use a dictionary as the following"
   ]
  },
  {
   "cell_type": "code",
   "execution_count": 27,
   "metadata": {
    "collapsed": true
   },
   "outputs": [],
   "source": [
    "d_expr = {}\n",
    "d_expr[0,0] = \"Ni_x * Nj_x + Ni_y * Nj_y\"\n",
    "d_expr[0,1] = \"Ni_x * Nj_y\"\n",
    "d_expr[1,0] = \"Ni_y * Nj_x\""
   ]
  },
  {
   "cell_type": "markdown",
   "metadata": {},
   "source": [
    "We create the symbol without **evaluation**"
   ]
  },
  {
   "cell_type": "code",
   "execution_count": 29,
   "metadata": {},
   "outputs": [
    {
     "name": "stdout",
     "output_type": "stream",
     "text": [
      ">>>> key : (0, 1)\n",
      ">>>> key : (1, 0)\n",
      ">>>> key : (0, 0)\n"
     ]
    }
   ],
   "source": [
    "expr = glt_symbol(d_expr, dim=2, \\\n",
    "                  verbose=False, evaluate=False, \\\n",
    "                  discretization=discretization)"
   ]
  },
  {
   "cell_type": "markdown",
   "metadata": {},
   "source": [
    "Let's print it"
   ]
  },
  {
   "cell_type": "code",
   "execution_count": 30,
   "metadata": {},
   "outputs": [
    {
     "data": {
      "text/latex": [
       "$$\\left[\\begin{matrix}\\mathfrak{m}_p(\\theta_1) \\mathfrak{s}_p(\\theta_2) + \\mathfrak{m}_p(\\theta_2) \\mathfrak{s}_p(\\theta_1) & - \\mathfrak{a}_p(\\theta_1) \\mathfrak{a}_p(\\theta_2)\\\\- \\mathfrak{a}_p(\\theta_1) \\mathfrak{a}_p(\\theta_2) & 0\\end{matrix}\\right]$$"
      ],
      "text/plain": [
       "<IPython.core.display.Math object>"
      ]
     },
     "execution_count": 30,
     "metadata": {},
     "output_type": "execute_result"
    }
   ],
   "source": [
    "from glt.expression import glt_latex\n",
    "from IPython.display import Math\n",
    "\n",
    "Math(glt_latex(expr))"
   ]
  },
  {
   "cell_type": "markdown",
   "metadata": {
    "collapsed": true
   },
   "source": [
    "As you can see, the result is a matrix (the symbol is then called a **multilevel** symbol).\n",
    "\n",
    "In the case of a multilevel symbol, the eigenvalues of the previous matrix can be evaluated on a uniform grid, to get an approximation of the eigenvalues of the linear system associated to our weak formulation.\n",
    "Let's first compute the eigenvalues of our **multilevel** symbol"
   ]
  },
  {
   "cell_type": "code",
   "execution_count": 8,
   "metadata": {
    "collapsed": true
   },
   "outputs": [],
   "source": [
    "eigs = expr.eigenvals()"
   ]
  },
  {
   "cell_type": "code",
   "execution_count": 11,
   "metadata": {},
   "outputs": [
    {
     "data": {
      "text/latex": [
       "$$\\left \\{ \\frac{m_{1} s_{2}}{2} + \\frac{m_{2} s_{1}}{2} - \\frac{1}{2} \\sqrt{4 a_{1}^{2} a_{2}^{2} + m_{1}^{2} s_{2}^{2} + 2 m_{1} m_{2} s_{1} s_{2} + m_{2}^{2} s_{1}^{2}} : 1, \\quad \\frac{m_{1} s_{2}}{2} + \\frac{m_{2} s_{1}}{2} + \\frac{1}{2} \\sqrt{4 a_{1}^{2} a_{2}^{2} + m_{1}^{2} s_{2}^{2} + 2 m_{1} m_{2} s_{1} s_{2} + m_{2}^{2} s_{1}^{2}} : 1\\right \\}$$"
      ],
      "text/plain": [
       "<IPython.core.display.Math object>"
      ]
     },
     "execution_count": 11,
     "metadata": {},
     "output_type": "execute_result"
    }
   ],
   "source": [
    "from sympy import latex\n",
    "\n",
    "Math(latex(eigs))"
   ]
  },
  {
   "cell_type": "markdown",
   "metadata": {
    "collapsed": true
   },
   "source": [
    "This means that there are 2 eigenvalues of multiplicity 1.\n",
    "\n",
    "Let's again use a pretty printing"
   ]
  },
  {
   "cell_type": "code",
   "execution_count": 14,
   "metadata": {},
   "outputs": [
    {
     "data": {
      "text/latex": [
       "$$\\left \\{ \\frac{\\mathfrak{m}_p(\\theta_1) \\mathfrak{s}_p(\\theta_2)}{2} + \\frac{\\mathfrak{m}_p(\\theta_2) \\mathfrak{s}_p(\\theta_1)}{2} - \\frac{1}{2} \\sqrt{4 \\mathfrak{a}_p(\\theta_1)^{2} \\mathfrak{a}_p(\\theta_2)^{2} + \\mathfrak{m}_p(\\theta_1)^{2} \\mathfrak{s}_p(\\theta_2)^{2} + 2 \\mathfrak{m}_p(\\theta_1) \\mathfrak{m}_p(\\theta_2) \\mathfrak{s}_p(\\theta_1) \\mathfrak{s}_p(\\theta_2) + \\mathfrak{m}_p(\\theta_2)^{2} \\mathfrak{s}_p(\\theta_1)^{2}} : 1, \\quad \\frac{\\mathfrak{m}_p(\\theta_1) \\mathfrak{s}_p(\\theta_2)}{2} + \\frac{\\mathfrak{m}_p(\\theta_2) \\mathfrak{s}_p(\\theta_1)}{2} + \\frac{1}{2} \\sqrt{4 \\mathfrak{a}_p(\\theta_1)^{2} \\mathfrak{a}_p(\\theta_2)^{2} + \\mathfrak{m}_p(\\theta_1)^{2} \\mathfrak{s}_p(\\theta_2)^{2} + 2 \\mathfrak{m}_p(\\theta_1) \\mathfrak{m}_p(\\theta_2) \\mathfrak{s}_p(\\theta_1) \\mathfrak{s}_p(\\theta_2) + \\mathfrak{m}_p(\\theta_2)^{2} \\mathfrak{s}_p(\\theta_1)^{2}} : 1\\right \\}$$"
      ],
      "text/plain": [
       "<IPython.core.display.Math object>"
      ]
     },
     "execution_count": 14,
     "metadata": {},
     "output_type": "execute_result"
    }
   ],
   "source": [
    "from glt.printing.latex import glt_latex_names\n",
    "\n",
    "Math(latex(eigs, symbol_names=glt_latex_names()))"
   ]
  },
  {
   "cell_type": "markdown",
   "metadata": {},
   "source": [
    "Now, let's turn on the **evaluate** flag and do some diagnostics"
   ]
  },
  {
   "cell_type": "code",
   "execution_count": 31,
   "metadata": {},
   "outputs": [
    {
     "name": "stdout",
     "output_type": "stream",
     "text": [
      ">>>> key : (0, 1)\n",
      ">>>> key : (1, 0)\n",
      ">>>> key : (0, 0)\n"
     ]
    }
   ],
   "source": [
    "expr = glt_symbol(d_expr, dim=2, \\\n",
    "                  verbose=False, evaluate=True, \\\n",
    "                  discretization=discretization)"
   ]
  },
  {
   "cell_type": "code",
   "execution_count": 32,
   "metadata": {},
   "outputs": [
    {
     "data": {
      "image/png": "[encoded data removed]",
      "text/plain": [
       "<matplotlib.figure.Figure at 0x7fbcfaa05dd0>"
      ]
     },
     "metadata": {},
     "output_type": "display_data"
    }
   ],
   "source": [
    "%matplotlib inline\n",
    "import matplotlib.pyplot as plt\n",
    "\n",
    "from glt.expression import glt_plot_eigenvalues\n",
    "\n",
    "glt_plot_eigenvalues(expr, discretization)"
   ]
  },
  {
   "cell_type": "code",
   "execution_count": null,
   "metadata": {
    "collapsed": true
   },
   "outputs": [],
   "source": []
  }
 ],
 "metadata": {
  "kernelspec": {
   "display_name": "Python 2",
   "language": "python",
   "name": "python2"
  },
  "language_info": {
   "codemirror_mode": {
    "name": "ipython",
    "version": 2
   },
   "file_extension": ".py",
   "mimetype": "text/x-python",
   "name": "python",
   "nbconvert_exporter": "python",
   "pygments_lexer": "ipython2",
   "version": "2.7.12"
  }
 },
 "nbformat": 4,
 "nbformat_minor": 2
}
