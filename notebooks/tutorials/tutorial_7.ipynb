{
 "cells": [
  {
   "cell_type": "markdown",
   "metadata": {},
   "source": [
    "# Tutorial 7: 2D Anisotropic Diffusion, non coercive case\n",
    "\n",
    "In this tutorial, we consider the study and analysis of the eigenvalue problem associated to the following anisotropic diffusion operator\n",
    "$$\n",
    "    - \\nabla \\cdot \\mathbf{b} \\otimes \\mathbf{b} \\nabla \\phi = \\omega^2 \\phi\n",
    "$$\n",
    "where $\\mathbf{b} = (\\iota, 1)$ is the normalized vector of the magnetic field.\n",
    "\n",
    "In fact, the original problem is 3D and the iota profile is given as\n",
    "\n",
    "$$\n",
    "    \\iota(r) = 0.47262 + 0.32392 r + 0.49604 r^2 + 5.3991 . 10^{-6} r^3 - 3.165 . 10^{-5} r^4 + 4.7963 . 10^{-5} r^5 - 2.2824 . 10^{-5} r^6\n",
    "$$\n",
    "\n",
    "which is the LHD-$\\iota$-profile. Now taking the given radius $r = 0.9$ we get\n",
    "\n",
    "$$\n",
    "\\mathbf{b} = (b_1,b_2)^\\top = (1.1659397624413860850012270020670, 1. )^\\top\n",
    "$$"
   ]
  },
  {
   "cell_type": "code",
   "execution_count": 1,
   "metadata": {
    "collapsed": true
   },
   "outputs": [],
   "source": [
    "%matplotlib inline\n",
    "import matplotlib.pyplot as plt\n",
    "\n",
    "from vale import construct_model\n",
    "import numpy as np\n",
    "import os\n",
    "import clapp.common.utils      as clapp_utils\n",
    "\n",
    "# ... initializing Clapp\n",
    "clapp_utils.initialize()\n",
    "# ...\n",
    "\n",
    "# ...\n",
    "def construct_pde(filename, mapping, discretization):\n",
    "    # ... clean input directory. needed for Fortran\n",
    "    cmd = \"rm -rf input\"\n",
    "    os.system(cmd)\n",
    "    # ...\n",
    "\n",
    "    # ... creates discretization parameters\n",
    "    from clapp.disco.parameters.bspline import BSpline\n",
    "\n",
    "    bspline_params = BSpline(discretization[\"n_elements\"], \\\n",
    "                             discretization[\"degrees\"], \\\n",
    "                             bc_min=[1,1], \\\n",
    "                             bc_max=[1,1])\n",
    "    # ...\n",
    "\n",
    "    # ... create a context from discretization\n",
    "    from clapp.fema.context        import Context\n",
    "\n",
    "    context = Context(dirname=\"input\", \\\n",
    "                      discretization_params=bspline_params)\n",
    "    # ...\n",
    "\n",
    "    # ...\n",
    "    pde = construct_model(filename, backend=\"clapp\", \\\n",
    "                          context=context, mapping=mapping)\n",
    "    # ...\n",
    "    \n",
    "    # ... clean input directory\n",
    "    cmd = \"rm -rf input\"\n",
    "    os.system(cmd)\n",
    "    # ...\n",
    "    \n",
    "    return pde\n",
    "# ..."
   ]
  },
  {
   "cell_type": "markdown",
   "metadata": {},
   "source": [
    "We use **CAID** to create the geometry, then convert it to the *mapping* object from *CLAPP*"
   ]
  },
  {
   "cell_type": "code",
   "execution_count": 2,
   "metadata": {
    "collapsed": true
   },
   "outputs": [],
   "source": [
    "# ... creates a unit line geometry using CAID\n",
    "from caid.cad_geometry import square\n",
    "geometry = square()\n",
    "# ...\n",
    "    \n",
    "# ...\n",
    "from clapp.spl.mapping import Mapping\n",
    "mapping = Mapping(geometry=geometry)\n",
    "# ..."
   ]
  },
  {
   "cell_type": "markdown",
   "metadata": {},
   "source": [
    "We specify the discretization, by giving the number of elements and spline degrees in every direction"
   ]
  },
  {
   "cell_type": "code",
   "execution_count": 3,
   "metadata": {
    "collapsed": true
   },
   "outputs": [],
   "source": [
    "# ... define a discretization\n",
    "discretization = {\"n_elements\": [128,128], \"degrees\": [3,3]}\n",
    "# ..."
   ]
  },
  {
   "cell_type": "markdown",
   "metadata": {},
   "source": [
    "The following flag allows to assemble the involved matrices"
   ]
  },
  {
   "cell_type": "code",
   "execution_count": 4,
   "metadata": {
    "collapsed": true
   },
   "outputs": [],
   "source": [
    "with_matrix = False"
   ]
  },
  {
   "cell_type": "code",
   "execution_count": 5,
   "metadata": {
    "collapsed": true
   },
   "outputs": [],
   "source": [
    "pde = construct_pde(filename=\"../../glt/tests/2d/inputs/anisotropic_diffusion_2.vl\", \n",
    "                    mapping=mapping, \n",
    "                    discretization=discretization)\n",
    "\n",
    "form_a = pde[\"a\"]\n",
    "b1     = pde[\"b1\"]\n",
    "b2     = pde[\"b2\"]\n",
    "\n",
    "b1.set(\"1.1659397624413860850012270020670\")\n",
    "b2.set(\"1.0\")\n",
    "\n",
    "# ... compute the glt symbol and evaluate it\n",
    "from glt.expression import glt_symbol_from_weak_formulation\n",
    "\n",
    "expr_a = glt_symbol_from_weak_formulation(form_a, \n",
    "                                          verbose=False, evaluate=True, \n",
    "                                          discretization=discretization)\n",
    "# ..."
   ]
  },
  {
   "cell_type": "code",
   "execution_count": 6,
   "metadata": {
    "collapsed": true
   },
   "outputs": [],
   "source": [
    "#from IPython.display import Math;\n",
    "#from glt.printing.latex import glt_latex;\n",
    "#Math(glt_latex(expr_a))"
   ]
  },
  {
   "cell_type": "code",
   "execution_count": 7,
   "metadata": {},
   "outputs": [
    {
     "data": {
      "image/png": "[encoded data removed]",
      "text/plain": [
       "<matplotlib.figure.Figure at 0x7fe5940e4e50>"
      ]
     },
     "metadata": {},
     "output_type": "display_data"
    }
   ],
   "source": [
    "from glt.expression import glt_approximate_eigenvalues\n",
    "t = glt_approximate_eigenvalues(expr_a, discretization)\n",
    "t.sort()\n",
    "plt.plot(t, \"+b\", label=\"glt symbol\")       \n",
    "# ...\n",
    "if with_matrix:\n",
    "    # ... assembling the linear system\n",
    "    form_a.assembler.assemble()\n",
    "    # ...\n",
    "    \n",
    "    # ...\n",
    "    from scipy.linalg import eig\n",
    "    M = form_a.matrix.get().todense()\n",
    "    w, v = eig(M)\n",
    "    wr = w.real\n",
    "    wr.sort()\n",
    "    plt.plot(wr, \"xr\", label=\"eigenvalues\")\n",
    "    # ...\n",
    "# ...\n",
    "plt.legend(loc=2);"
   ]
  },
  {
   "cell_type": "code",
   "execution_count": 8,
   "metadata": {
    "collapsed": true
   },
   "outputs": [],
   "source": [
    "pde_c = construct_pde(filename=\"../../glt/tests/2d/inputs/mass.vl\", \n",
    "                    mapping=mapping, \n",
    "                    discretization=discretization)\n",
    "\n",
    "form_c = pde_c[\"c\"]\n",
    "\n",
    "# ... compute the glt symbol and evaluate it\n",
    "from glt.expression import glt_symbol_from_weak_formulation\n",
    "\n",
    "expr_c = glt_symbol_from_weak_formulation(form_c, \n",
    "                                          verbose=False, evaluate=True, \n",
    "                                          discretization=discretization)\n",
    "# ..."
   ]
  },
  {
   "cell_type": "code",
   "execution_count": 9,
   "metadata": {},
   "outputs": [
    {
     "data": {
      "image/png": "[encoded data removed]",
      "text/plain": [
       "<matplotlib.figure.Figure at 0x7fe5936c1310>"
      ]
     },
     "metadata": {},
     "output_type": "display_data"
    }
   ],
   "source": [
    "from glt.expression import glt_approximate_eigenvalues\n",
    "t_a = glt_approximate_eigenvalues(expr_a, discretization)\n",
    "t_c = glt_approximate_eigenvalues(expr_c, discretization)\n",
    "t = t_a / t_c\n",
    "t = t / (4 * np.pi**2) \n",
    "\n",
    "t.sort()\n",
    "plt.plot(t, \"+b\", label=\"glt symbol\")       \n",
    "# ...\n",
    "\n",
    "if with_matrix:\n",
    "    # ...\n",
    "    from scipy.linalg import eig\n",
    "    A = form_a.matrix.get().todense()\n",
    "    C = form_c.matrix.get().todense()\n",
    "    w, v = eig(A, C)\n",
    "    wr = w.real\n",
    "    wr.sort()\n",
    "    plt.plot(wr, \"xr\", label=\"eigenvalues\")\n",
    "    # ...\n",
    "# ...\n",
    "plt.legend(loc=2);"
   ]
  },
  {
   "cell_type": "code",
   "execution_count": 10,
   "metadata": {},
   "outputs": [
    {
     "data": {
      "image/png": "[encoded data removed]",
      "text/plain": [
       "<matplotlib.figure.Figure at 0x7fe5936c1350>"
      ]
     },
     "metadata": {},
     "output_type": "display_data"
    }
   ],
   "source": [
    "plt.plot(t[:20], \"+b\", label=\"glt symbol\")\n",
    "\n",
    "if with_matrix:\n",
    "    plt.plot(wr[:20], \"xr\", label=\"eigenvalues\")\n",
    "plt.legend(loc=2);"
   ]
  },
  {
   "cell_type": "code",
   "execution_count": 11,
   "metadata": {},
   "outputs": [
    {
     "name": "stdout",
     "output_type": "stream",
     "text": [
      "[ -5.77529016e-14   2.31207390e-05   2.31207390e-05   1.44473138e-03\n",
      "   1.44473138e-03   2.61204655e-02   2.61204655e-02   2.72814880e-02\n",
      "   2.72814880e-02   2.75360048e-02]\n"
     ]
    }
   ],
   "source": [
    "print t[:10]"
   ]
  },
  {
   "cell_type": "markdown",
   "metadata": {
    "collapsed": true
   },
   "source": [
    "Since the glt symbols can be evaluated, let's plot their ratio "
   ]
  },
  {
   "cell_type": "code",
   "execution_count": 21,
   "metadata": {},
   "outputs": [
    {
     "data": {
      "image/png": "[encoded data removed]",
      "text/plain": [
       "<matplotlib.figure.Figure at 0x7fe5939c3510>"
      ]
     },
     "metadata": {},
     "output_type": "display_data"
    }
   ],
   "source": [
    "# ... lambdify the glt symbol\n",
    "from glt.expression import glt_lambdify\n",
    "\n",
    "f_a = glt_lambdify(expr_a, dim=2)\n",
    "f_c = glt_lambdify(expr_c, dim=2)\n",
    "# ...\n",
    "\n",
    "# ... compute the symbol f_a / f_c\n",
    "#nx = 100 ; ny = 100\n",
    "nx,ny = discretization[\"n_elements\"]\n",
    "t1 = np.linspace(-np.pi,np.pi, nx+1)\n",
    "t2 = np.linspace(-np.pi,np.pi, ny+1)\n",
    "\n",
    "u = np.linspace(0.,1.,nx+1)\n",
    "v = np.linspace(0.,1.,ny+1)\n",
    "\n",
    "x = mapping.evaluate(u,v)[0,:,:]\n",
    "y = mapping.evaluate(u,v)[1,:,:]\n",
    "\n",
    "t1, t2 = np.meshgrid(t1, t2)\n",
    "\n",
    "f = f_a(x,y,t1,t2)/f_c(x,y,t1,t2);\n",
    "f = f / (4 * np.pi**2)\n",
    "# ...\n",
    "\n",
    "# ... plot\n",
    "plt.contourf(t1, t2, f)\n",
    "plt.axis(\"equal\")\n",
    "plt.colorbar();\n",
    "# ..."
   ]
  },
  {
   "cell_type": "code",
   "execution_count": 22,
   "metadata": {},
   "outputs": [
    {
     "name": "stdout",
     "output_type": "stream",
     "text": [
      "4101.29079159\n",
      "-5.77529016375e-14\n",
      "9676.64918525\n",
      "8320\n"
     ]
    },
    {
     "data": {
      "text/plain": [
       "4466.4324901080845"
      ]
     },
     "execution_count": 22,
     "metadata": {},
     "output_type": "execute_result"
    }
   ],
   "source": [
    "print f[0,:].min()\n",
    "print f.min()\n",
    "print f[0,0]\n",
    "print np.argmin(f.ravel())\n",
    "f.ravel()[7238]"
   ]
  },
  {
   "cell_type": "code",
   "execution_count": 23,
   "metadata": {
    "collapsed": true
   },
   "outputs": [],
   "source": [
    "b_1 = 1.1659397624413860850012270020670 ; b_2 = 1.0\n",
    "N = discretization[\"n_elements\"][0] ; M = discretization[\"n_elements\"][1]\n",
    "n = range(-N/2, N/2+1) \n",
    "m = range(-M/2, M/2+1)\n",
    "n,m = np.meshgrid(n,m)\n",
    "e = (b_1*n + b_2*m)**2 "
   ]
  },
  {
   "cell_type": "code",
   "execution_count": 24,
   "metadata": {},
   "outputs": [
    {
     "data": {
      "image/png": "[encoded data removed]",
      "text/plain": [
       "<matplotlib.figure.Figure at 0x7fe5940e4150>"
      ]
     },
     "metadata": {},
     "output_type": "display_data"
    }
   ],
   "source": [
    "# ... plot\n",
    "plt.contourf(t1, t2, np.abs(e-f))\n",
    "plt.axis(\"equal\")\n",
    "plt.colorbar();\n",
    "# ..."
   ]
  },
  {
   "cell_type": "code",
   "execution_count": 25,
   "metadata": {},
   "outputs": [
    {
     "data": {
      "text/plain": [
       "-5.7752901637470983e-14"
      ]
     },
     "execution_count": 25,
     "metadata": {},
     "output_type": "execute_result"
    }
   ],
   "source": [
    "d = e-f\n",
    "f[64,64]"
   ]
  },
  {
   "cell_type": "code",
   "execution_count": 30,
   "metadata": {},
   "outputs": [],
   "source": [
    "def mode(i,j, exact=False):\n",
    "    N = discretization[\"n_elements\"][0] ; M = discretization[\"n_elements\"][1]\n",
    "    if not exact:\n",
    "        return f[N/2+i,M/2+j]\n",
    "    else:\n",
    "        return f[N/2+i,M/2+j], e[N/2+i,M/2+j]"
   ]
  },
  {
   "cell_type": "code",
   "execution_count": 31,
   "metadata": {},
   "outputs": [
    {
     "data": {
      "text/plain": [
       "0.027536004760888733"
      ]
     },
     "execution_count": 31,
     "metadata": {},
     "output_type": "execute_result"
    }
   ],
   "source": [
    "mode(1,-1)"
   ]
  },
  {
   "cell_type": "code",
   "execution_count": 32,
   "metadata": {},
   "outputs": [
    {
     "data": {
      "text/plain": [
       "0.1101440193211199"
      ]
     },
     "execution_count": 32,
     "metadata": {},
     "output_type": "execute_result"
    }
   ],
   "source": [
    "mode(2,-2)"
   ]
  },
  {
   "cell_type": "code",
   "execution_count": 29,
   "metadata": {},
   "outputs": [
    {
     "name": "stdout",
     "output_type": "stream",
     "text": [
      "( -9 , 8 ) 0.107303786706\n",
      "( -8 , 7 ) 0.0261204654882\n",
      "( -7 , 6 ) 2.3120739025e-05\n",
      "( -6 , 5 ) 0.0290035920914\n",
      "( -5 , 4 ) 0.113058209688\n",
      "( -2 , 2 ) 0.110144019321\n",
      "( -1 , 1 ) 0.0275360047609\n",
      "( 0 , 0 ) -5.77529016375e-14\n",
      "( 1 , -1 ) 0.0275360047609\n",
      "( 2 , -2 ) 0.110144019321\n",
      "( 5 , -4 ) 0.113058209688\n",
      "( 6 , -5 ) 0.0290035920914\n",
      "( 7 , -6 ) 2.3120739025e-05\n",
      "( 8 , -7 ) 0.0261204654882\n",
      "( 9 , -8 ) 0.107303786706\n"
     ]
    }
   ],
   "source": [
    "for i in range(-10,10+1):\n",
    "    for j in range(-10,10+1):\n",
    "        v = mode(i,j)\n",
    "        if v < 0.2:\n",
    "            print \"(\", i, \",\", j, \")\", v"
   ]
  },
  {
   "cell_type": "code",
   "execution_count": 33,
   "metadata": {},
   "outputs": [
    {
     "name": "stdout",
     "output_type": "stream",
     "text": [
      "( -9 , 8 ) 0.107303786706 *** 0.10726810552 *** 3.56811857628e-05\n",
      "( -8 , 7 ) 0.0261204654882 *** 0.0261075590167 *** 1.29064714945e-05\n",
      "( -7 , 6 ) 2.3120739025e-05 *** 1.90220310983e-05 *** 4.0987079267e-06\n",
      "( -6 , 5 ) 0.0290035920914 *** 0.0290024945637 *** 1.09752768093e-06\n",
      "( -5 , 4 ) 0.113058209688 *** 0.113057976615 *** 2.33072934591e-07\n",
      "( -2 , 2 ) 0.110144019321 *** 0.110144019036 *** 2.84705314879e-10\n",
      "( -1 , 1 ) 0.0275360047609 *** 0.0275360047591 *** 1.78508596793e-12\n",
      "( 0 , 0 ) -5.77529016375e-14 *** 0.0 *** 5.77529016375e-14\n",
      "( 1 , -1 ) 0.0275360047609 *** 0.0275360047591 *** 1.78508596793e-12\n",
      "( 2 , -2 ) 0.110144019321 *** 0.110144019036 *** 2.84705314879e-10\n",
      "( 5 , -4 ) 0.113058209688 *** 0.113057976615 *** 2.33072934591e-07\n",
      "( 6 , -5 ) 0.0290035920914 *** 0.0290024945637 *** 1.09752768093e-06\n",
      "( 7 , -6 ) 2.3120739025e-05 *** 1.90220310983e-05 *** 4.0987079267e-06\n",
      "( 8 , -7 ) 0.0261204654882 *** 0.0261075590167 *** 1.29064714945e-05\n",
      "( 9 , -8 ) 0.107303786706 *** 0.10726810552 *** 3.56811857628e-05\n"
     ]
    }
   ],
   "source": [
    "for i in range(-10,10+1):\n",
    "    for j in range(-10,10+1):\n",
    "        v, w = mode(i,j, exact=True)\n",
    "        if v < 0.2:\n",
    "            print \"(\", i, \",\", j, \")\", v, \"***\", w, \"***\", np.abs(v-w)"
   ]
  },
  {
   "cell_type": "code",
   "execution_count": 15,
   "metadata": {
    "collapsed": true
   },
   "outputs": [],
   "source": [
    "# ... Finalizing Clapp\n",
    "clapp_utils.finalize()\n",
    "# ..."
   ]
  }
 ],
 "metadata": {
  "kernelspec": {
   "display_name": "Python 2",
   "language": "python",
   "name": "python2"
  },
  "language_info": {
   "codemirror_mode": {
    "name": "ipython",
    "version": 2
   },
   "file_extension": ".py",
   "mimetype": "text/x-python",
   "name": "python",
   "nbconvert_exporter": "python",
   "pygments_lexer": "ipython2",
   "version": "2.7.12"
  }
 },
 "nbformat": 4,
 "nbformat_minor": 2
}
