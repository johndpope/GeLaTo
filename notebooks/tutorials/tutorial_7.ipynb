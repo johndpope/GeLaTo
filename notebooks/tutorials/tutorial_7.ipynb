{
 "cells": [
  {
   "cell_type": "markdown",
   "metadata": {},
   "source": [
    "# Tutorial 7: 2D Anisotropic Diffusion, non coercive case\n",
    "\n",
    "In this tutorial, we consider the study and analysis of the eigenvalue problem associated to the following anisotropic diffusion operator\n",
    "$$\n",
    "    - \\nabla \\cdot \\mathbf{b} \\otimes \\mathbf{b} \\nabla \\phi = \\omega^2 \\phi\n",
    "$$\n",
    "where $\\mathbf{b} = (\\iota, 1)$ is the normalized vector of the magnetic field.\n",
    "\n",
    "In fact, the original problem is 3D and the iota profile is given as\n",
    "\n",
    "$$\n",
    "    \\iota(r) = 0.47262 + 0.32392 r + 0.49604 r^2 + 5.3991 . 10^{-6} r^3 - 3.165 . 10^{-5} r^4 + 4.7963 . 10^{-5} r^5 - 2.2824 . 10^{-5} r^6\n",
    "$$\n",
    "\n",
    "which is the LHD-$\\iota$-profile. "
   ]
  },
  {
   "cell_type": "code",
   "execution_count": 1,
   "metadata": {
    "collapsed": true
   },
   "outputs": [],
   "source": [
    "%matplotlib inline\n",
    "import matplotlib.pyplot as plt\n",
    "\n",
    "from vale import construct_model\n",
    "import numpy as np\n",
    "import os\n",
    "import clapp.common.utils      as clapp_utils\n",
    "\n",
    "# ... initializing Clapp\n",
    "clapp_utils.initialize()\n",
    "# ...\n",
    "\n",
    "# ...\n",
    "def construct_pde(filename, mapping, discretization):\n",
    "    # ... clean input directory. needed for Fortran\n",
    "    cmd = \"rm -rf input\"\n",
    "    os.system(cmd)\n",
    "    # ...\n",
    "\n",
    "    # ... creates discretization parameters\n",
    "    from clapp.disco.parameters.bspline import BSpline\n",
    "\n",
    "    bspline_params = BSpline(discretization[\"n_elements\"], \\\n",
    "                             discretization[\"degrees\"], \\\n",
    "                             bc_min=[1,1], \\\n",
    "                             bc_max=[1,1])\n",
    "    # ...\n",
    "\n",
    "    # ... create a context from discretization\n",
    "    from clapp.fema.context        import Context\n",
    "\n",
    "    context = Context(dirname=\"input\", \\\n",
    "                      discretization_params=bspline_params)\n",
    "    # ...\n",
    "\n",
    "    # ...\n",
    "    pde = construct_model(filename, backend=\"clapp\", \\\n",
    "                          context=context, mapping=mapping)\n",
    "    # ...\n",
    "    \n",
    "    # ... clean input directory\n",
    "    cmd = \"rm -rf input\"\n",
    "    os.system(cmd)\n",
    "    # ...\n",
    "    \n",
    "    return pde\n",
    "# ..."
   ]
  },
  {
   "cell_type": "markdown",
   "metadata": {},
   "source": [
    "We use **CAID** to create the geometry, then convert it to the *mapping* object from *CLAPP*"
   ]
  },
  {
   "cell_type": "code",
   "execution_count": 2,
   "metadata": {
    "collapsed": true
   },
   "outputs": [],
   "source": [
    "# ... creates a unit line geometry using CAID\n",
    "from caid.cad_geometry import square\n",
    "geometry = square()\n",
    "# ...\n",
    "    \n",
    "# ...\n",
    "from clapp.spl.mapping import Mapping\n",
    "mapping = Mapping(geometry=geometry)\n",
    "# ..."
   ]
  },
  {
   "cell_type": "markdown",
   "metadata": {},
   "source": [
    "The following flag allows to assemble the involved matrices"
   ]
  },
  {
   "cell_type": "code",
   "execution_count": 3,
   "metadata": {
    "collapsed": true
   },
   "outputs": [],
   "source": [
    "with_matrix = False"
   ]
  },
  {
   "cell_type": "markdown",
   "metadata": {},
   "source": [
    "The following function allows us to extract the modes we are interesting in"
   ]
  },
  {
   "cell_type": "code",
   "execution_count": 7,
   "metadata": {
    "collapsed": true
   },
   "outputs": [],
   "source": [
    "def mode(i,j):\n",
    "    t1 = i * 2 * np.pi / nx\n",
    "    t2 = j * 2 * np.pi / ny\n",
    "\n",
    "    u = 0.5 + i * 2. / nx\n",
    "    v = 0.5 + j * 2. / ny\n",
    "\n",
    "    x = float(mapping.evaluate([u],[v])[0,:,:][0,0])\n",
    "    y = float(mapping.evaluate([u],[v])[1,:,:][0,0])\n",
    "\n",
    "    g = f_a(x,y,t1,t2)/f_c(x,y,t1,t2);\n",
    "    g = g / (4 * np.pi**2)\n",
    "    \n",
    "    return g"
   ]
  },
  {
   "cell_type": "markdown",
   "metadata": {},
   "source": [
    "## Constants coefficients case\n",
    "\n",
    "Now taking the given radius $r = 0.9$ we get\n",
    "\n",
    "$$\n",
    "\\mathbf{b} = (b_1,b_2)^\\top = (1.1659397624413860850012270020670, 1. )^\\top\n",
    "$$\n",
    "\n",
    "### Linear B-Splines\n",
    "\n",
    "Convergence over a grid $128 \\times 128$\n",
    "\n",
    "| mode   |   approximated |    exact |   absolute error | relative error   |\n",
    "|:-------|---------------:|---------:|-----------------:|:-----------------|\n",
    "| (-2,2) |       0.117736 | 0.110144 |      0.00759231  | 0.0689307690246  |\n",
    "| (-1,1) |       0.02801  | 0.027536 |      0.000473954 | 0.0172121386494  |\n",
    "| (0,0)  |       0        | 0        |      0           |                  |\n",
    "| (1,-1) |       0.02801  | 0.027536 |      0.000473954 | 0.0172121386494  |\n",
    "| (2,-2) |       0.117736 | 0.110144 |      0.00759231  | 0.0689307690246  |\n",
    "\n",
    "Convergence over a grid $256 \\times 256$\n",
    "\n",
    "| mode   |   approximated |     exact |   absolute error | relative error   |\n",
    "|:-------|---------------:|----------:|-----------------:|:-----------------|\n",
    "| (-6,5) |      0.137052  | 0.0290025 |      0.108049    | 3.72552219632    |\n",
    "| (-5,4) |      0.162007  | 0.113058  |      0.0489488   | 0.432953432604   |\n",
    "| (-2,2) |      0.11204   | 0.110144  |      0.00189581  | 0.0172121386494  |\n",
    "| (-1,1) |      0.0276545 | 0.027536  |      0.000118453 | 0.00430175091897 |\n",
    "| (0,0)  |      0         | 0         |      0           |                  |\n",
    "| (1,-1) |      0.0276545 | 0.027536  |      0.000118453 | 0.00430175091897 |\n",
    "| (2,-2) |      0.11204   | 0.110144  |      0.00189581  | 0.0172121386494  |\n",
    "| (5,-4) |      0.162007  | 0.113058  |      0.0489488   | 0.432953432604   |\n",
    "| (6,-5) |      0.137052  | 0.0290025 |      0.108049    | 3.72552219632    |\n",
    "\n",
    "Convergence over a grid $512 \\times 512$\n",
    "\n",
    "| mode   |   approximated |      exact |   absolute error | relative error   |\n",
    "|:-------|---------------:|-----------:|-----------------:|:-----------------|\n",
    "| (-8,7) |      0.118607  | 0.0261076  |      0.0924999   | 3.54303279553    |\n",
    "| (-7,6) |      0.0523186 | 1.9022e-05 |      0.0522996   | 2749.42297235    |\n",
    "| (-6,5) |      0.0559511 | 0.0290025  |      0.0269486   | 0.929182607556   |\n",
    "| (-5,4) |      0.125276  | 0.113058   |      0.0122176   | 0.108065342788   |\n",
    "| (-2,2) |      0.110618  | 0.110144   |      0.000473812 | 0.00430175091897 |\n",
    "| (-1,1) |      0.0275656 | 0.027536   |      2.96111e-05 | 0.0010753575555  |\n",
    "| (0,0)  |      0         | 0          |      0           |                  |\n",
    "| (1,-1) |      0.0275656 | 0.027536   |      2.96111e-05 | 0.0010753575555  |\n",
    "| (2,-2) |      0.110618  | 0.110144   |      0.000473812 | 0.00430175091897 |\n",
    "| (5,-4) |      0.125276  | 0.113058   |      0.0122176   | 0.108065342788   |\n",
    "| (6,-5) |      0.0559511 | 0.0290025  |      0.0269486   | 0.929182607556   |\n",
    "| (7,-6) |      0.0523186 | 1.9022e-05 |      0.0522996   | 2749.42297235    |\n",
    "| (8,-7) |      0.118607  | 0.0261076  |      0.0924999   | 3.54303279553    |\n",
    "\n",
    "### Quadratic B-Splines\n",
    "\n",
    "Convergence over a grid $128 \\times 128$\n",
    "\n",
    "| mode   |   approximated |      exact |   absolute error | relative error    |\n",
    "|:-------|---------------:|-----------:|-----------------:|:------------------|\n",
    "| (-9,8) |    0.115089    | 0.107268   |      0.00782114  | 0.0729120952745   |\n",
    "| (-8,7) |    0.0297566   | 0.0261076  |      0.00364899  | 0.139767725163    |\n",
    "| (-7,6) |    0.00155866  | 1.9022e-05 |      0.00153964  | 80.9398032605     |\n",
    "| (-6,5) |    0.0295716   | 0.0290025  |      0.000569071 | 0.0196214584588   |\n",
    "| (-5,4) |    0.113233    | 0.113058   |      0.000175489 | 0.00155219938851  |\n",
    "| (-2,2) |    0.110145    | 0.110144   |      1.22351e-06 | 1.11082987432e-05 |\n",
    "| (-1,1) |    0.027536    | 0.027536   |      1.9049e-08  | 6.91783960624e-07 |\n",
    "| (0,0)  |    5.43557e-14 | 0          |      5.43557e-14 |                   |\n",
    "| (1,-1) |    0.027536    | 0.027536   |      1.9049e-08  | 6.91783960624e-07 |\n",
    "| (2,-2) |    0.110145    | 0.110144   |      1.22351e-06 | 1.11082987432e-05 |\n",
    "| (5,-4) |    0.113233    | 0.113058   |      0.000175489 | 0.00155219938851  |\n",
    "| (6,-5) |    0.0295716   | 0.0290025  |      0.000569071 | 0.0196214584588   |\n",
    "| (7,-6) |    0.00155866  | 1.9022e-05 |      0.00153964  | 80.9398032605     |\n",
    "| (8,-7) |    0.0297566   | 0.0261076  |      0.00364899  | 0.139767725163    |\n",
    "| (9,-8) |    0.115089    | 0.107268   |      0.00782114  | 0.0729120952745   |\n",
    "\n",
    "Convergence over a grid $256 \\times 256$\n",
    "\n",
    "| mode   |   approximated |      exact |   absolute error | relative error    |\n",
    "|:-------|---------------:|-----------:|-----------------:|:------------------|\n",
    "| (-9,8) |    0.107726    | 0.107268   |      0.000457582 | 0.00426577617644  |\n",
    "| (-8,7) |    0.0263241   | 0.0261076  |      0.000216498 | 0.00829254817564  |\n",
    "| (-7,6) |    0.000111509 | 1.9022e-05 |      9.24871e-05 | 4.86210240272     |\n",
    "| (-6,5) |    0.029037    | 0.0290025  |      3.45535e-05 | 0.00119139882499  |\n",
    "| (-5,4) |    0.113069    | 0.113058   |      1.07525e-05 | 9.51062356322e-05 |\n",
    "| (-2,2) |    0.110144    | 0.110144   |      7.61959e-08 | 6.91783960624e-07 |\n",
    "| (-1,1) |    0.027536    | 0.027536   |      1.18963e-09 | 4.3202749248e-08  |\n",
    "| (0,0)  |    2.17423e-13 | 0          |      2.17423e-13 |                   |\n",
    "| (1,-1) |    0.027536    | 0.027536   |      1.18963e-09 | 4.3202749248e-08  |\n",
    "| (2,-2) |    0.110144    | 0.110144   |      7.61959e-08 | 6.91783960624e-07 |\n",
    "| (5,-4) |    0.113069    | 0.113058   |      1.07525e-05 | 9.51062356322e-05 |\n",
    "| (6,-5) |    0.029037    | 0.0290025  |      3.45535e-05 | 0.00119139882499  |\n",
    "| (7,-6) |    0.000111509 | 1.9022e-05 |      9.24871e-05 | 4.86210240272     |\n",
    "| (8,-7) |    0.0263241   | 0.0261076  |      0.000216498 | 0.00829254817564  |\n",
    "| (9,-8) |    0.107726    | 0.107268   |      0.000457582 | 0.00426577617644  |\n",
    "\n",
    "Convergence over a grid $512 \\times 512$\n",
    "\n",
    "\n",
    "| mode   |   approximated |      exact |   absolute error | relative error    |\n",
    "|:-------|---------------:|-----------:|-----------------:|:------------------|\n",
    "| (-9,8) |    0.107296    | 0.107268   |      2.81231e-05 | 0.000262175777066 |\n",
    "| (-8,7) |    0.0261209   | 0.0261076  |      1.33541e-05 | 0.00051150157634  |\n",
    "| (-7,6) |    2.47449e-05 | 1.9022e-05 |      5.72289e-06 | 0.300855814223    |\n",
    "| (-6,5) |    0.0290046   | 0.0290025  |      2.14394e-06 | 7.39225375536e-05 |\n",
    "| (-5,4) |    0.113059    | 0.113058   |      6.68691e-07 | 5.91458346308e-06 |\n",
    "| (-2,2) |    0.110144    | 0.110144   |      4.75852e-09 | 4.3202749248e-08  |\n",
    "| (-1,1) |    0.027536    | 0.027536   |      7.54528e-11 | 2.74015023274e-09 |\n",
    "| (0,0)  |    8.69691e-13 | 0          |      8.69691e-13 |                   |\n",
    "| (1,-1) |    0.027536    | 0.027536   |      7.54528e-11 | 2.74015023274e-09 |\n",
    "| (2,-2) |    0.110144    | 0.110144   |      4.75852e-09 | 4.3202749248e-08  |\n",
    "| (5,-4) |    0.113059    | 0.113058   |      6.68691e-07 | 5.91458346308e-06 |\n",
    "| (6,-5) |    0.0290046   | 0.0290025  |      2.14394e-06 | 7.39225375536e-05 |\n",
    "| (7,-6) |    2.47449e-05 | 1.9022e-05 |      5.72289e-06 | 0.300855814223    |\n",
    "| (8,-7) |    0.0261209   | 0.0261076  |      1.33541e-05 | 0.00051150157634  |\n",
    "| (9,-8) |    0.107296    | 0.107268   |      2.81231e-05 | 0.000262175777066 |\n",
    "\n",
    "### Cubic B-Splines\n",
    "\n",
    "Convergence over a grid $128 \\times 128$\n",
    "\n",
    "| mode   |   approximated |      exact |   absolute error | relative error    |\n",
    "|:-------|---------------:|-----------:|-----------------:|:------------------|\n",
    "| (-9,8) |    0.107304    | 0.107268   |      3.56812e-05 | 0.000332635554526 |\n",
    "| (-8,7) |    0.0261205   | 0.0261076  |      1.29065e-05 | 0.000494357648921 |\n",
    "| (-7,6) |    2.31207e-05 | 1.9022e-05 |      4.09871e-06 | 0.215471623693    |\n",
    "| (-6,5) |    0.0290036   | 0.0290025  |      1.09753e-06 | 3.78425269079e-05 |\n",
    "| (-5,4) |    0.113058    | 0.113058   |      2.33073e-07 | 2.06153463533e-06 |\n",
    "| (-2,2) |    0.110144    | 0.110144   |      2.84705e-10 | 2.58484588968e-09 |\n",
    "| (-1,1) |    0.027536    | 0.027536   |      1.78509e-12 | 6.48273409141e-11 |\n",
    "| (0,0)  |   -5.77529e-14 | 0          |      5.77529e-14 |                   |\n",
    "| (1,-1) |    0.027536    | 0.027536   |      1.78509e-12 | 6.48273409141e-11 |\n",
    "| (2,-2) |    0.110144    | 0.110144   |      2.84705e-10 | 2.58484588968e-09 |\n",
    "| (5,-4) |    0.113058    | 0.113058   |      2.33073e-07 | 2.06153463533e-06 |\n",
    "| (6,-5) |    0.0290036   | 0.0290025  |      1.09753e-06 | 3.78425269079e-05 |\n",
    "| (7,-6) |    2.31207e-05 | 1.9022e-05 |      4.09871e-06 | 0.215471623693    |\n",
    "| (8,-7) |    0.0261205   | 0.0261076  |      1.29065e-05 | 0.000494357648921 |\n",
    "| (9,-8) |    0.107304    | 0.107268   |      3.56812e-05 | 0.000332635554526 |\n",
    "\n",
    "Convergence over a grid $256 \\times 256$\n",
    "\n",
    "| mode   |   approximated |      exact |   absolute error | relative error    |\n",
    "|:-------|---------------:|-----------:|-----------------:|:------------------|\n",
    "| (-9,8) |    0.107269    | 0.107268   |      4.95816e-07 | 4.62221125415e-06 |\n",
    "| (-8,7) |    0.0261077   | 0.0261076  |      1.83754e-07 | 7.03833253611e-06 |\n",
    "| (-7,6) |    1.90817e-05 | 1.9022e-05 |      5.96462e-08 | 0.00313563694164  |\n",
    "| (-6,5) |    0.0290025   | 0.0290025  |      1.62899e-08 | 5.61674024496e-07 |\n",
    "| (-5,4) |    0.113058    | 0.113058   |      3.52524e-09 | 3.11808077307e-08 |\n",
    "| (-2,2) |    0.110144    | 0.110144   |      7.14034e-12 | 6.48273409141e-11 |\n",
    "| (-1,1) |    0.027536    | 0.027536   |      7.73041e-13 | 2.80738385948e-11 |\n",
    "| (0,0)  |   -2.31012e-13 | 0          |      2.31012e-13 |                   |\n",
    "| (1,-1) |    0.027536    | 0.027536   |      7.73041e-13 | 2.80738385948e-11 |\n",
    "| (2,-2) |    0.110144    | 0.110144   |      7.14034e-12 | 6.48273409141e-11 |\n",
    "| (5,-4) |    0.113058    | 0.113058   |      3.52524e-09 | 3.11808077307e-08 |\n",
    "| (6,-5) |    0.0290025   | 0.0290025  |      1.62899e-08 | 5.61674024496e-07 |\n",
    "| (7,-6) |    1.90817e-05 | 1.9022e-05 |      5.96462e-08 | 0.00313563694164  |\n",
    "| (8,-7) |    0.0261077   | 0.0261076  |      1.83754e-07 | 7.03833253611e-06 |\n",
    "| (9,-8) |    0.107269    | 0.107268   |      4.95816e-07 | 4.62221125415e-06 |\n",
    "\n",
    "Convergence over a grid $512 \\times 512$\n",
    "\n",
    "| mode   |   approximated |      exact |   absolute error | relative error    |\n",
    "|:-------|---------------:|-----------:|-----------------:|:------------------|\n",
    "| (-9,8) |    0.107268    | 0.107268   |      7.56669e-09 | 7.05399376257e-08 |\n",
    "| (-8,7) |    0.0261076   | 0.0261076  |      2.84358e-09 | 1.08917787472e-07 |\n",
    "| (-7,6) |    1.9023e-05  | 1.9022e-05 |      9.45466e-10 | 4.97037191604e-05 |\n",
    "| (-6,5) |    0.0290025   | 0.0290025  |      2.72935e-10 | 9.41072945151e-09 |\n",
    "| (-5,4) |    0.113058    | 0.113058   |      6.88503e-11 | 6.08982490914e-10 |\n",
    "| (-2,2) |    0.110144    | 0.110144   |      3.09217e-12 | 2.80738385948e-11 |\n",
    "| (-1,1) |    0.027536    | 0.027536   |      4.94702e-13 | 1.79656237829e-11 |\n",
    "| (0,0)  |   -9.24046e-13 | 0          |      9.24046e-13 |                   |\n",
    "| (1,-1) |    0.027536    | 0.027536   |      4.94702e-13 | 1.79656237829e-11 |\n",
    "| (2,-2) |    0.110144    | 0.110144   |      3.09217e-12 | 2.80738385948e-11 |\n",
    "| (5,-4) |    0.113058    | 0.113058   |      6.88503e-11 | 6.08982490914e-10 |\n",
    "| (6,-5) |    0.0290025   | 0.0290025  |      2.72935e-10 | 9.41072945151e-09 |\n",
    "| (7,-6) |    1.9023e-05  | 1.9022e-05 |      9.45466e-10 | 4.97037191604e-05 |\n",
    "| (8,-7) |    0.0261076   | 0.0261076  |      2.84358e-09 | 1.08917787472e-07 |\n",
    "| (9,-8) |    0.107268    | 0.107268   |      7.56669e-09 | 7.05399376257e-08 |\n",
    "\n",
    "\n",
    "### Quartic B-Splines\n",
    "\n",
    "Convergence over a grid $32 \\times 32$\n",
    "\n",
    "| mode   |   approximated |      exact |   absolute error | relative error    |\n",
    "|:-------|---------------:|-----------:|-----------------:|:------------------|\n",
    "| (-8,7) |    0.047885    | 0.0261076  |      0.0217774   | 0.834141223412    |\n",
    "| (-7,6) |    0.00370117  | 1.9022e-05 |      0.00368215  | 193.573032597     |\n",
    "| (-6,5) |    0.0295166   | 0.0290025  |      0.000514155 | 0.0177279718146   |\n",
    "| (-5,4) |    0.113113    | 0.113058   |      5.51914e-05 | 0.000488168738898 |\n",
    "| (-2,2) |    0.110144    | 0.110144   |      5.74438e-09 | 5.21533643094e-08 |\n",
    "| (-1,1) |    0.027536    | 0.027536   |      3.90507e-10 | 1.41816704051e-08 |\n",
    "| (0,0)  |    4.00754e-10 | 0          |      4.00754e-10 |                   |\n",
    "| (1,-1) |    0.027536    | 0.027536   |      3.90507e-10 | 1.41816704051e-08 |\n",
    "| (2,-2) |    0.110144    | 0.110144   |      5.74438e-09 | 5.21533643094e-08 |\n",
    "| (5,-4) |    0.113113    | 0.113058   |      5.51914e-05 | 0.000488168738898 |\n",
    "| (6,-5) |    0.0295166   | 0.0290025  |      0.000514155 | 0.0177279718141   |\n",
    "| (7,-6) |    0.00370117  | 1.9022e-05 |      0.00368215  | 193.573032596     |\n",
    "| (8,-7) |    0.047885    | 0.0261076  |      0.0217774   | 0.834141223412    |\n",
    "\n",
    "Convergence over a grid $64 \\times 64$\n",
    "\n",
    "| mode   |   approximated |      exact |   absolute error | relative error    |\n",
    "|:-------|---------------:|-----------:|-----------------:|:------------------|\n",
    "| (-9,8) |    0.10735     | 0.107268   |      8.15826e-05 | 0.000760548160268 |\n",
    "| (-8,7) |    0.0261282   | 0.0261076  |      2.06052e-05 | 0.000789241309998 |\n",
    "| (-7,6) |    2.3487e-05  | 1.9022e-05 |      4.46494e-06 | 0.234724595722    |\n",
    "| (-6,5) |    0.0290033   | 0.0290025  |      7.92528e-07 | 2.73261960708e-05 |\n",
    "| (-5,4) |    0.113058    | 0.113058   |      1.08099e-07 | 9.56140947961e-07 |\n",
    "| (-2,2) |    0.110144    | 0.110144   |      1.56203e-09 | 1.41816704051e-08 |\n",
    "| (-1,1) |    0.027536    | 0.027536   |      1.58822e-09 | 5.76780956368e-08 |\n",
    "| (0,0)  |    1.60302e-09 | 0          |      1.60302e-09 |                   |\n",
    "| (1,-1) |    0.027536    | 0.027536   |      1.58822e-09 | 5.76780956368e-08 |\n",
    "| (2,-2) |    0.110144    | 0.110144   |      1.56203e-09 | 1.41816704051e-08 |\n",
    "| (5,-4) |    0.113058    | 0.113058   |      1.08099e-07 | 9.56140947961e-07 |\n",
    "| (6,-5) |    0.0290033   | 0.0290025  |      7.92528e-07 | 2.73261960708e-05 |\n",
    "| (7,-6) |    2.3487e-05  | 1.9022e-05 |      4.46494e-06 | 0.234724595722    |\n",
    "| (8,-7) |    0.0261282   | 0.0261076  |      2.06052e-05 | 0.000789241309998 |\n",
    "| (9,-8) |    0.10735     | 0.107268   |      8.15826e-05 | 0.000760548160461 |\n",
    "\n",
    "Convergence over a grid $128 \\times 128$\n",
    "\n",
    "| mode   |   approximated |      exact |   absolute error | relative error    |\n",
    "|:-------|---------------:|-----------:|-----------------:|:------------------|\n",
    "| (-9,8) |    0.107268    | 0.107268   |      1.8073e-07  | 1.68484287531e-06 |\n",
    "| (-8,7) |    0.0261076   | 0.0261076  |      5.48181e-08 | 2.0997008124e-06  |\n",
    "| (-7,6) |    1.90396e-05 | 1.9022e-05 |      1.75817e-08 | 0.000924281923376 |\n",
    "| (-6,5) |    0.0290025   | 0.0290025  |      8.26325e-09 | 2.84915154499e-07 |\n",
    "| (-5,4) |    0.113058    | 0.113058   |      6.45359e-09 | 5.70821241256e-08 |\n",
    "| (-2,2) |    0.110144    | 0.110144   |      6.3529e-09  | 5.76780956368e-08 |\n",
    "| (-1,1) |    0.027536    | 0.027536   |      6.39728e-09 | 2.32324140965e-07 |\n",
    "| (0,0)  |    6.41207e-09 | 0          |      6.41207e-09 |                   |\n",
    "| (1,-1) |    0.027536    | 0.027536   |      6.39728e-09 | 2.32324140965e-07 |\n",
    "| (2,-2) |    0.110144    | 0.110144   |      6.3529e-09  | 5.76780956368e-08 |\n",
    "| (5,-4) |    0.113058    | 0.113058   |      6.45359e-09 | 5.70821241256e-08 |\n",
    "| (6,-5) |    0.0290025   | 0.0290025  |      8.26325e-09 | 2.84915154499e-07 |\n",
    "| (7,-6) |    1.90396e-05 | 1.9022e-05 |      1.75817e-08 | 0.000924281923376 |\n",
    "| (8,-7) |    0.0261076   | 0.0261076  |      5.48181e-08 | 2.0997008124e-06  |\n",
    "| (9,-8) |    0.107268    | 0.107268   |      1.8073e-07  | 1.68484287531e-06 |\n",
    "\n",
    "Convergence over a grid $256 \\times 256$\n",
    "\n",
    "| mode   |   approximated |      exact |   absolute error | relative error    |\n",
    "|:-------|---------------:|-----------:|-----------------:|:------------------|\n",
    "| (-9,8) |    0.107268    | 0.107268   |      2.51595e-08 | 2.34548031502e-07 |\n",
    "| (-8,7) |    0.0261076   | 0.0261076  |      2.49888e-08 | 9.57147873006e-07 |\n",
    "| (-7,6) |    1.90471e-05 | 1.9022e-05 |      2.50698e-08 | 0.00131793265359  |\n",
    "| (-6,5) |    0.0290025   | 0.0290025  |      2.52139e-08 | 8.69368473189e-07 |\n",
    "| (-5,4) |    0.113058    | 0.113058   |      2.53541e-08 | 2.2425755454e-07  |\n",
    "| (-2,2) |    0.110144    | 0.110144   |      2.55891e-08 | 2.32324140965e-07 |\n",
    "| (-1,1) |    0.027536    | 0.027536   |      2.56333e-08 | 9.30902854396e-07 |\n",
    "| (0,0)  |    2.56483e-08 | 0          |      2.56483e-08 |                   |\n",
    "| (1,-1) |    0.027536    | 0.027536   |      2.56333e-08 | 9.30902854396e-07 |\n",
    "| (2,-2) |    0.110144    | 0.110144   |      2.55891e-08 | 2.32324140965e-07 |\n",
    "| (5,-4) |    0.113058    | 0.113058   |      2.53541e-08 | 2.2425755454e-07  |\n",
    "| (6,-5) |    0.0290025   | 0.0290025  |      2.52139e-08 | 8.69368473189e-07 |\n",
    "| (7,-6) |    1.90471e-05 | 1.9022e-05 |      2.50698e-08 | 0.00131793265359  |\n",
    "| (8,-7) |    0.0261076   | 0.0261076  |      2.49888e-08 | 9.57147873006e-07 |\n",
    "| (9,-8) |    0.107268    | 0.107268   |      2.51595e-08 | 2.34548031502e-07 |\n",
    "\n",
    "Convergence over a grid $512 \\times 512$"
   ]
  },
  {
   "cell_type": "markdown",
   "metadata": {},
   "source": [
    "We specify the discretization, by giving the number of elements and spline degrees in every direction"
   ]
  },
  {
   "cell_type": "code",
   "execution_count": 25,
   "metadata": {
    "collapsed": true
   },
   "outputs": [],
   "source": [
    "# ... define a discretization\n",
    "#     linear splines\n",
    "#discretization = {\"n_elements\": [128,128], \"degrees\": [1,1]}\n",
    "#discretization = {\"n_elements\": [256,256], \"degrees\": [1,1]}\n",
    "#discretization = {\"n_elements\": [512,512], \"degrees\": [1,1]}\n",
    "\n",
    "#     linear splines\n",
    "#discretization = {\"n_elements\": [128,128], \"degrees\": [2,2]}\n",
    "#discretization = {\"n_elements\": [256,256], \"degrees\": [2,2]}\n",
    "#discretization = {\"n_elements\": [512,512], \"degrees\": [2,2]}\n",
    "\n",
    "#     cubic splines\n",
    "discretization = {\"n_elements\": [128,128], \"degrees\": [3,3]}\n",
    "#discretization = {\"n_elements\": [256,256], \"degrees\": [3,3]}\n",
    "#discretization = {\"n_elements\": [512,512], \"degrees\": [3,3]}\n",
    "\n",
    "#     quartic splines\n",
    "#discretization = {\"n_elements\": [32,32], \"degrees\": [4,4]}\n",
    "#discretization = {\"n_elements\": [64,64], \"degrees\": [4,4]}\n",
    "#discretization = {\"n_elements\": [128,128], \"degrees\": [4,4]}\n",
    "#discretization = {\"n_elements\": [256,256], \"degrees\": [4,4]}\n",
    "# ..."
   ]
  },
  {
   "cell_type": "markdown",
   "metadata": {},
   "source": [
    "We import the weak formulation related to the **lhs** "
   ]
  },
  {
   "cell_type": "code",
   "execution_count": 26,
   "metadata": {
    "collapsed": true
   },
   "outputs": [],
   "source": [
    "pde = construct_pde(filename=\"../../glt/tests/2d/inputs/anisotropic_diffusion_2.vl\", \n",
    "                    mapping=mapping, \n",
    "                    discretization=discretization)\n",
    "\n",
    "form_a = pde[\"a\"]\n",
    "b1     = pde[\"b1\"]\n",
    "b2     = pde[\"b2\"]\n",
    "\n",
    "b1.set(\"1.1659397624413860850012270020670\")\n",
    "b2.set(\"1.0\")\n",
    "\n",
    "# ... compute the glt symbol and evaluate it\n",
    "from glt.expression import glt_symbol_from_weak_formulation\n",
    "\n",
    "expr_a = glt_symbol_from_weak_formulation(form_a, \n",
    "                                          verbose=False, evaluate=True, \n",
    "                                          discretization=discretization)\n",
    "# ..."
   ]
  },
  {
   "cell_type": "markdown",
   "metadata": {},
   "source": [
    "We import the weak formulation related to the **rhs** "
   ]
  },
  {
   "cell_type": "code",
   "execution_count": 27,
   "metadata": {
    "collapsed": true
   },
   "outputs": [],
   "source": [
    "pde_c = construct_pde(filename=\"../../glt/tests/2d/inputs/mass.vl\", \n",
    "                    mapping=mapping, \n",
    "                    discretization=discretization)\n",
    "\n",
    "form_c = pde_c[\"c\"]\n",
    "\n",
    "# ... compute the glt symbol and evaluate it\n",
    "from glt.expression import glt_symbol_from_weak_formulation\n",
    "\n",
    "expr_c = glt_symbol_from_weak_formulation(form_c, \n",
    "                                          verbose=False, evaluate=True, \n",
    "                                          discretization=discretization)\n",
    "# ..."
   ]
  },
  {
   "cell_type": "code",
   "execution_count": 7,
   "metadata": {},
   "outputs": [
    {
     "data": {
      "text/latex": [
       "$$2 \\left(- \\frac{49}{72} \\sin{\\left (\\theta_1 \\right )} - \\frac{7}{45} \\sin{\\left (2 \\theta_1 \\right )} - \\frac{1}{360} \\sin{\\left (3 \\theta_1 \\right )}\\right) \\left(- \\frac{49}{72} \\sin{\\left (\\theta_2 \\right )} - \\frac{7}{45} \\sin{\\left (2 \\theta_2 \\right )} - \\frac{1}{360} \\sin{\\left (3 \\theta_2 \\right )}\\right) \\operatorname{b_{1}}{\\left (x,y \\right )} \\operatorname{b_{2}}{\\left (x,y \\right )} + \\left(- 32 \\cos{\\left (\\theta_1 \\right )} - \\frac{256}{5} \\cos{\\left (2 \\theta_1 \\right )} - \\frac{32}{15} \\cos{\\left (3 \\theta_1 \\right )} + \\frac{256}{3}\\right) \\left(\\frac{397}{107520} \\cos{\\left (\\theta_2 \\right )} + \\frac{1}{2688} \\cos{\\left (2 \\theta_2 \\right )} + \\frac{1}{322560} \\cos{\\left (3 \\theta_2 \\right )} + \\frac{2396825387}{639999997376}\\right) \\operatorname{b_{1}}^{2}{\\left (x,y \\right )} + \\left(\\frac{397}{107520} \\cos{\\left (\\theta_1 \\right )} + \\frac{1}{2688} \\cos{\\left (2 \\theta_1 \\right )} + \\frac{1}{322560} \\cos{\\left (3 \\theta_1 \\right )} + \\frac{2396825387}{639999997376}\\right) \\left(- 32 \\cos{\\left (\\theta_2 \\right )} - \\frac{256}{5} \\cos{\\left (2 \\theta_2 \\right )} - \\frac{32}{15} \\cos{\\left (3 \\theta_2 \\right )} + \\frac{256}{3}\\right) \\operatorname{b_{2}}^{2}{\\left (x,y \\right )}$$"
      ],
      "text/plain": [
       "<IPython.core.display.Math object>"
      ]
     },
     "execution_count": 7,
     "metadata": {},
     "output_type": "execute_result"
    }
   ],
   "source": [
    "from IPython.display import Math;\n",
    "from glt.printing.latex import glt_latex;\n",
    "Math(glt_latex(expr_a))"
   ]
  },
  {
   "cell_type": "markdown",
   "metadata": {},
   "source": [
    "We plot here the approximation of the eigenvalues by a uniform sampling of the symbol"
   ]
  },
  {
   "cell_type": "code",
   "execution_count": 28,
   "metadata": {},
   "outputs": [
    {
     "data": {
      "image/png": "[encoded data removed]",
      "text/plain": [
       "<matplotlib.figure.Figure at 0x7fc18d928710>"
      ]
     },
     "metadata": {},
     "output_type": "display_data"
    }
   ],
   "source": [
    "from glt.expression import glt_approximate_eigenvalues\n",
    "t = glt_approximate_eigenvalues(expr_a, discretization)\n",
    "t.sort()\n",
    "plt.plot(t, \"+b\", label=\"glt symbol\")       \n",
    "# ...\n",
    "if with_matrix:\n",
    "    # ... assembling the linear system\n",
    "    form_a.assembler.assemble()\n",
    "    # ...\n",
    "    \n",
    "    # ...\n",
    "    from scipy.linalg import eig\n",
    "    M = form_a.matrix.get().todense()\n",
    "    w, v = eig(M)\n",
    "    wr = w.real\n",
    "    wr.sort()\n",
    "    plt.plot(wr, \"xr\", label=\"eigenvalues\")\n",
    "    # ...\n",
    "# ...\n",
    "plt.legend(loc=2);"
   ]
  },
  {
   "cell_type": "markdown",
   "metadata": {
    "collapsed": true
   },
   "source": [
    "We plot here the approximation of the eigenvalues by a uniform sampling of the symbol of **lhs/rhs**"
   ]
  },
  {
   "cell_type": "code",
   "execution_count": 29,
   "metadata": {},
   "outputs": [
    {
     "data": {
      "image/png": "[encoded data removed]",
      "text/plain": [
       "<matplotlib.figure.Figure at 0x7fc18fdf87d0>"
      ]
     },
     "metadata": {},
     "output_type": "display_data"
    }
   ],
   "source": [
    "from glt.expression import glt_approximate_eigenvalues\n",
    "t_a = glt_approximate_eigenvalues(expr_a, discretization)\n",
    "t_c = glt_approximate_eigenvalues(expr_c, discretization)\n",
    "t = t_a / t_c\n",
    "t = t / (4 * np.pi**2) \n",
    "\n",
    "t.sort()\n",
    "plt.plot(t, \"+b\", label=\"glt symbol\")       \n",
    "# ...\n",
    "\n",
    "if with_matrix:\n",
    "    # ...\n",
    "    from scipy.linalg import eig\n",
    "    A = form_a.matrix.get().todense()\n",
    "    C = form_c.matrix.get().todense()\n",
    "    w, v = eig(A, C)\n",
    "    wr = w.real\n",
    "    wr.sort()\n",
    "    plt.plot(wr, \"xr\", label=\"eigenvalues\")\n",
    "    # ...\n",
    "# ...\n",
    "plt.legend(loc=2);"
   ]
  },
  {
   "cell_type": "markdown",
   "metadata": {
    "collapsed": true
   },
   "source": [
    "Next, we make our symbols **callable** and then evaluate their ratio over a uniform grid."
   ]
  },
  {
   "cell_type": "code",
   "execution_count": 32,
   "metadata": {
    "collapsed": true
   },
   "outputs": [],
   "source": [
    "# ... lambdify the glt symbol\n",
    "from glt.expression import glt_lambdify\n",
    "\n",
    "f_a = glt_lambdify(expr_a, dim=2)\n",
    "f_c = glt_lambdify(expr_c, dim=2)\n",
    "# ...\n",
    "\n",
    "# ... compute the symbol f_a / f_c\n",
    "nx, ny = discretization[\"n_elements\"]\n",
    "\n",
    "t1 = np.linspace(-np.pi,np.pi, nx+1)\n",
    "t2 = np.linspace(-np.pi,np.pi, ny+1)\n",
    "\n",
    "u = np.linspace(0.,1.,nx+1)\n",
    "v = np.linspace(0.,1.,ny+1)\n",
    "\n",
    "x = mapping.evaluate(u,v)[0,:,:]\n",
    "y = mapping.evaluate(u,v)[1,:,:]\n",
    "\n",
    "t1, t2 = np.meshgrid(t1, t2)\n",
    "t1 = np.transpose(t1)\n",
    "t2 = np.transpose(t2)\n",
    "\n",
    "f = f_a(x,y,t1,t2)/f_c(x,y,t1,t2);\n",
    "f = f / (4 * np.pi**2)\n",
    "# ..."
   ]
  },
  {
   "cell_type": "markdown",
   "metadata": {},
   "source": [
    "let's plot their ratio "
   ]
  },
  {
   "cell_type": "code",
   "execution_count": 33,
   "metadata": {},
   "outputs": [
    {
     "data": {
      "image/png": "[encoded data removed]",
      "text/plain": [
       "<matplotlib.figure.Figure at 0x7fc18d95ab90>"
      ]
     },
     "metadata": {},
     "output_type": "display_data"
    }
   ],
   "source": [
    "# ... plot\n",
    "plt.contourf(t1, t2, f)\n",
    "plt.axis(\"equal\")\n",
    "plt.colorbar();\n",
    "# ..."
   ]
  },
  {
   "cell_type": "markdown",
   "metadata": {},
   "source": [
    "Evaluation of the exact eigenvalues"
   ]
  },
  {
   "cell_type": "code",
   "execution_count": 35,
   "metadata": {
    "collapsed": true
   },
   "outputs": [],
   "source": [
    "b_1 = 1.1659397624413860850012270020670 ; b_2 = 1.0\n",
    "N = discretization[\"n_elements\"][0] ; M = discretization[\"n_elements\"][1]\n",
    "n = range(-N/2, N/2+1) \n",
    "m = range(-M/2, M/2+1)\n",
    "n,m = np.meshgrid(n,m)\n",
    "n = np.transpose(n)\n",
    "m = np.transpose(m)\n",
    "e = (b_1*n + b_2*m)**2 "
   ]
  },
  {
   "cell_type": "markdown",
   "metadata": {},
   "source": [
    "Plot of the absolute error"
   ]
  },
  {
   "cell_type": "code",
   "execution_count": 36,
   "metadata": {},
   "outputs": [
    {
     "data": {
      "image/png": "[encoded data removed]",
      "text/plain": [
       "<matplotlib.figure.Figure at 0x7fc18da122d0>"
      ]
     },
     "metadata": {},
     "output_type": "display_data"
    }
   ],
   "source": [
    "# ... plot\n",
    "plt.contourf(t1, t2, np.abs(e-f))\n",
    "plt.axis(\"equal\")\n",
    "plt.colorbar();\n",
    "# ..."
   ]
  },
  {
   "cell_type": "code",
   "execution_count": 37,
   "metadata": {},
   "outputs": [
    {
     "name": "stdout",
     "output_type": "stream",
     "text": [
      "['(-8,9)', '0.107303786706', '0.10726810552', '3.56811857887e-05', '0.000332635554768']\n",
      "['(-7,8)', '0.0261204654882', '0.0261075590167', '1.29064714945e-05', '0.000494357648921']\n",
      "['(-6,7)', '2.31207390743e-05', '1.90220310983e-05', '4.09870797603e-06', '0.215471626287']\n",
      "['(-5,6)', '0.0290035920914', '0.0290024945637', '1.09752768093e-06', '3.78425269079e-05']\n",
      "['(-4,5)', '0.113058209688', '0.113057976615', '2.33072964331e-07', '2.06153489838e-06']\n",
      "['(-2,2)', '0.110144019321', '0.110144019036', '2.8472851854e-10', '2.58505655624e-09']\n",
      "['(-1,1)', '0.0275360047609', '0.0275360047591', '1.76994530143e-12', '6.42774911218e-11']\n",
      "['(0,0)', '-5.77529016375e-14', '0.0', '5.77529016375e-14', '']\n",
      "['(1,-1)', '0.0275360047609', '0.0275360047591', '1.76994530143e-12', '6.42774911218e-11']\n",
      "['(2,-2)', '0.110144019321', '0.110144019036', '2.8472851854e-10', '2.58505655624e-09']\n",
      "['(4,-5)', '0.113058209688', '0.113057976615', '2.33072964331e-07', '2.06153489838e-06']\n",
      "['(5,-6)', '0.0290035920914', '0.0290024945637', '1.09752768093e-06', '3.78425269079e-05']\n",
      "['(6,-7)', '2.31207390743e-05', '1.90220310983e-05', '4.09870797603e-06', '0.215471626287']\n",
      "['(7,-8)', '0.0261204654882', '0.0261075590167', '1.29064714945e-05', '0.000494357648921']\n",
      "['(8,-9)', '0.107303786706', '0.10726810552', '3.56811857887e-05', '0.000332635554768']\n"
     ]
    }
   ],
   "source": [
    "table = []\n",
    "for i in range(-10,10+1):\n",
    "    for j in range(-10,10+1):\n",
    "        v = mode(i,j)\n",
    "        w = (b_1*i + b_2*j)**2\n",
    "        if v < 0.2:\n",
    "            line = []\n",
    "            line.append(\"(\" + str(i) + \",\" + str(j) + \")\")\n",
    "            # approximated eigenvalue\n",
    "            line.append(str(v))\n",
    "            # exact eigenvalue\n",
    "            line.append(str(w))\n",
    "            # absolute error\n",
    "            line.append(str(np.abs(v-w)))\n",
    "            # relative error\n",
    "            if np.abs(w) > 1.e-10:\n",
    "                line.append(str(np.abs(v-w)/w))\n",
    "            else:\n",
    "                line.append(\"\")\n",
    "            table.append(line)\n",
    "            print line"
   ]
  },
  {
   "cell_type": "code",
   "execution_count": 38,
   "metadata": {
    "scrolled": true
   },
   "outputs": [
    {
     "name": "stdout",
     "output_type": "stream",
     "text": [
      "| mode   |   approximated |      exact |   absolute error | relative error    |\n",
      "|:-------|---------------:|-----------:|-----------------:|:------------------|\n",
      "| (-8,9) |    0.107304    | 0.107268   |      3.56812e-05 | 0.000332635554768 |\n",
      "| (-7,8) |    0.0261205   | 0.0261076  |      1.29065e-05 | 0.000494357648921 |\n",
      "| (-6,7) |    2.31207e-05 | 1.9022e-05 |      4.09871e-06 | 0.215471626287    |\n",
      "| (-5,6) |    0.0290036   | 0.0290025  |      1.09753e-06 | 3.78425269079e-05 |\n",
      "| (-4,5) |    0.113058    | 0.113058   |      2.33073e-07 | 2.06153489838e-06 |\n",
      "| (-2,2) |    0.110144    | 0.110144   |      2.84729e-10 | 2.58505655624e-09 |\n",
      "| (-1,1) |    0.027536    | 0.027536   |      1.76995e-12 | 6.42774911218e-11 |\n",
      "| (0,0)  |   -5.77529e-14 | 0          |      5.77529e-14 |                   |\n",
      "| (1,-1) |    0.027536    | 0.027536   |      1.76995e-12 | 6.42774911218e-11 |\n",
      "| (2,-2) |    0.110144    | 0.110144   |      2.84729e-10 | 2.58505655624e-09 |\n",
      "| (4,-5) |    0.113058    | 0.113058   |      2.33073e-07 | 2.06153489838e-06 |\n",
      "| (5,-6) |    0.0290036   | 0.0290025  |      1.09753e-06 | 3.78425269079e-05 |\n",
      "| (6,-7) |    2.31207e-05 | 1.9022e-05 |      4.09871e-06 | 0.215471626287    |\n",
      "| (7,-8) |    0.0261205   | 0.0261076  |      1.29065e-05 | 0.000494357648921 |\n",
      "| (8,-9) |    0.107304    | 0.107268   |      3.56812e-05 | 0.000332635554768 |\n"
     ]
    }
   ],
   "source": [
    "from tabulate import tabulate\n",
    "\n",
    "headers = [\"mode\", \"approximated\", \"exact\", \"absolute error\", \"relative error\"]\n",
    "print(tabulate(table, headers, tablefmt=\"pipe\"))"
   ]
  },
  {
   "cell_type": "markdown",
   "metadata": {
    "collapsed": true
   },
   "source": [
    "## Variable coefficients case\n",
    "\n",
    "### Cubic B-Splines\n",
    "\n",
    "Convergence over a grid $128 \\times 128$\n",
    "\n",
    "| mode   |   approximated |\n",
    "|:-------|---------------:|\n",
    "| (-8,9) |    0.0913556   |\n",
    "| (-7,8) |    0.0225571   |\n",
    "| (-6,7) |    2.02803e-05 |\n",
    "| (-5,6) |    0.0258704   |\n",
    "| (-4,5) |    0.10265     |\n",
    "| (-2,2) |    0.105888    |\n",
    "| (-1,1) |    0.0269989   |\n",
    "| (0,0)  |   -5.77529e-14 |\n",
    "| (1,-1) |    0.0280785   |\n",
    "| (2,-2) |    0.114484    |\n",
    "| (4,-5) |    0.123968    |\n",
    "| (5,-6) |    0.0323158   |\n",
    "| (6,-7) |    2.61473e-05 |\n",
    "| (7,-8) |    0.0299451   |\n",
    "| (8,-9) |    0.124534    |\n",
    "\n",
    "Convergence over a grid $256 \\times 256$\n",
    "\n",
    "| mode   |   approximated |\n",
    "|:-------|---------------:|\n",
    "| (-8,9) |    0.098292    |\n",
    "| (-7,8) |    0.0241478   |\n",
    "| (-6,7) |    1.78176e-05 |\n",
    "| (-5,6) |    0.0273432   |\n",
    "| (-4,5) |    0.107631    |\n",
    "| (-2,2) |    0.107995    |\n",
    "| (-1,1) |    0.0272664   |\n",
    "| (0,0)  |   -2.31012e-13 |\n",
    "| (1,-1) |    0.0278069   |\n",
    "| (2,-2) |    0.112314    |\n",
    "| (4,-5) |    0.118619    |\n",
    "| (5,-6) |    0.0307107   |\n",
    "| (6,-7) |    2.0389e-05  |\n",
    "| (7,-8) |    0.0281442   |\n",
    "| (8,-9) |    0.116637    |\n",
    "\n",
    "Convergence over a grid $512 \\times 512$\n",
    "\n",
    "| mode   |   approximated |\n",
    "|:-------|---------------:|\n",
    "| (-8,9) |    0.102619    |\n",
    "| (-7,8) |    0.0250988   |\n",
    "| (-6,7) |    1.83781e-05 |\n",
    "| (-5,6) |    0.0281576   |\n",
    "| (-4,5) |    0.110307    |\n",
    "| (-2,2) |    0.109066    |\n",
    "| (-1,1) |    0.027401    |\n",
    "| (0,0)  |   -9.24046e-13 |\n",
    "| (1,-1) |    0.0276713   |\n",
    "| (2,-2) |    0.111228    |\n",
    "| (4,-5) |    0.115843    |\n",
    "| (5,-6) |    0.0298598   |\n",
    "| (6,-7) |    1.9679e-05  |\n",
    "| (7,-8) |    0.0271362   |\n",
    "| (8,-9) |    0.11202     |\n",
    "\n",
    "Convergence over a grid $1024 \\times 1024$\n",
    "\n",
    "| mode   |   approximated |\n",
    "|:-------|---------------:|\n",
    "| (-8,9) |    0.104916    |\n",
    "| (-7,8) |    0.0255983   |\n",
    "| (-6,7) |    1.86971e-05 |\n",
    "| (-5,6) |    0.0285774   |\n",
    "| (-4,5) |    0.111676    |\n",
    "| (-2,2) |    0.109604    |\n",
    "| (-1,1) |    0.0274685   |\n",
    "| (0,0)  |   -3.69619e-12 |\n",
    "| (1,-1) |    0.0276036   |\n",
    "| (2,-2) |    0.110685    |\n",
    "| (4,-5) |    0.114449    |\n",
    "| (5,-6) |    0.0294308   |\n",
    "| (6,-7) |    1.93499e-05 |\n",
    "| (7,-8) |    0.0266219   |\n",
    "| (8,-9) |    0.109646    |"
   ]
  },
  {
   "cell_type": "code",
   "execution_count": 5,
   "metadata": {
    "collapsed": true
   },
   "outputs": [],
   "source": [
    "# ... define a discretization\n",
    "#     linear splines\n",
    "#discretization = {\"n_elements\": [128,128], \"degrees\": [1,1]}\n",
    "#discretization = {\"n_elements\": [256,256], \"degrees\": [1,1]}\n",
    "#discretization = {\"n_elements\": [512,512], \"degrees\": [1,1]}\n",
    "\n",
    "#     linear splines\n",
    "#discretization = {\"n_elements\": [128,128], \"degrees\": [2,2]}\n",
    "#discretization = {\"n_elements\": [256,256], \"degrees\": [2,2]}\n",
    "#discretization = {\"n_elements\": [512,512], \"degrees\": [2,2]}\n",
    "\n",
    "#     cubic splines\n",
    "discretization = {\"n_elements\": [32,32], \"degrees\": [3,3]}\n",
    "#discretization = {\"n_elements\": [128,128], \"degrees\": [3,3]}\n",
    "#discretization = {\"n_elements\": [256,256], \"degrees\": [3,3]}\n",
    "#discretization = {\"n_elements\": [512,512], \"degrees\": [3,3]}\n",
    "#discretization = {\"n_elements\": [1024,1024], \"degrees\": [3,3]}\n",
    "\n",
    "#     quartic splines\n",
    "#discretization = {\"n_elements\": [32,32], \"degrees\": [4,4]}\n",
    "#discretization = {\"n_elements\": [64,64], \"degrees\": [4,4]}\n",
    "#discretization = {\"n_elements\": [128,128], \"degrees\": [4,4]}\n",
    "#discretization = {\"n_elements\": [256,256], \"degrees\": [4,4]}\n",
    "\n",
    "#     quintic splines\n",
    "#discretization = {\"n_elements\": [128,128], \"degrees\": [5,5]}\n",
    "#discretization = {\"n_elements\": [256,256], \"degrees\": [5,5]}\n",
    "#discretization = {\"n_elements\": [512,512], \"degrees\": [5,5]}\n",
    "# ...\n",
    "\n",
    "# ...\n",
    "pde = construct_pde(filename=\"../../glt/tests/2d/inputs/anisotropic_diffusion_2.vl\", \n",
    "                    mapping=mapping, \n",
    "                    discretization=discretization)\n",
    "\n",
    "form_a = pde[\"a\"]\n",
    "b1     = pde[\"b1\"]\n",
    "b2     = pde[\"b2\"]\n",
    "\n",
    "b1.set(\"1.1659397624413860850012270020670 * (1.0 + 0.1 * sin(2*pi*y))\")\n",
    "b2.set(\"1.0 * (1.0 + 0.1 * sin(2*pi*y))\")\n",
    "\n",
    "# ... compute the glt symbol and evaluate it\n",
    "from glt.expression import glt_symbol_from_weak_formulation\n",
    "\n",
    "expr_a = glt_symbol_from_weak_formulation(form_a, \n",
    "                                          verbose=False, evaluate=True, \n",
    "                                          discretization=discretization)\n",
    "# ...\n",
    "\n",
    "pde_c = construct_pde(filename=\"../../glt/tests/2d/inputs/mass.vl\", \n",
    "                    mapping=mapping, \n",
    "                    discretization=discretization)\n",
    "\n",
    "form_c = pde_c[\"c\"]\n",
    "\n",
    "# ... compute the glt symbol and evaluate it\n",
    "from glt.expression import glt_symbol_from_weak_formulation\n",
    "\n",
    "expr_c = glt_symbol_from_weak_formulation(form_c, \n",
    "                                          verbose=False, evaluate=True, \n",
    "                                          discretization=discretization)\n",
    "# ..."
   ]
  },
  {
   "cell_type": "code",
   "execution_count": 18,
   "metadata": {},
   "outputs": [
    {
     "data": {
      "image/png": "[encoded data removed]",
      "text/plain": [
       "<matplotlib.figure.Figure at 0x7fd059eceb90>"
      ]
     },
     "metadata": {},
     "output_type": "display_data"
    }
   ],
   "source": [
    "from glt.expression import glt_approximate_eigenvalues\n",
    "t_a = glt_approximate_eigenvalues(expr_a, discretization)\n",
    "t_c = glt_approximate_eigenvalues(expr_c, discretization)\n",
    "t = t_a / t_c\n",
    "t = t / (4 * np.pi**2) \n",
    "\n",
    "t.sort()\n",
    "plt.plot(t, \"+b\", label=\"glt symbol\")       \n",
    "# ...\n",
    "\n",
    "if with_matrix:\n",
    "    # ...\n",
    "    from scipy.linalg import eig\n",
    "    A = form_a.matrix.get().todense()\n",
    "    C = form_c.matrix.get().todense()\n",
    "    w, v = eig(A, C)\n",
    "    wr = w.real\n",
    "    wr.sort()\n",
    "    plt.plot(wr, \"xr\", label=\"eigenvalues\")\n",
    "    # ...\n",
    "# ...\n",
    "plt.legend(loc=2);"
   ]
  },
  {
   "cell_type": "code",
   "execution_count": 6,
   "metadata": {
    "collapsed": true
   },
   "outputs": [],
   "source": [
    "# ... lambdify the glt symbol\n",
    "from glt.expression import glt_lambdify\n",
    "\n",
    "f_a = glt_lambdify(expr_a, dim=2)\n",
    "f_c = glt_lambdify(expr_c, dim=2)\n",
    "# ..."
   ]
  },
  {
   "cell_type": "code",
   "execution_count": 20,
   "metadata": {},
   "outputs": [
    {
     "data": {
      "image/png": "[encoded data removed]",
      "text/plain": [
       "<matplotlib.figure.Figure at 0x7fd05ca4ff10>"
      ]
     },
     "metadata": {},
     "output_type": "display_data"
    }
   ],
   "source": [
    "# ... compute the symbol f_a / f_c\n",
    "nx, ny = discretization[\"n_elements\"]\n",
    "\n",
    "t1 = np.linspace(-np.pi,np.pi, nx+1)\n",
    "t2 = np.linspace(-np.pi,np.pi, ny+1)\n",
    "\n",
    "u = np.linspace(0.,1.,nx+1)\n",
    "v = np.linspace(0.,1.,ny+1)\n",
    "\n",
    "x = mapping.evaluate(u,v)[0,:,:]\n",
    "y = mapping.evaluate(u,v)[1,:,:]\n",
    "\n",
    "t1, t2 = np.meshgrid(t1, t2)\n",
    "\n",
    "f = f_a(x,y,t1,t2)/f_c(x,y,t1,t2);\n",
    "f = f / (4 * np.pi**2)\n",
    "# ...\n",
    "\n",
    "# ... plot\n",
    "plt.contourf(t1, t2, f)\n",
    "plt.axis(\"equal\")\n",
    "plt.colorbar();\n",
    "# ..."
   ]
  },
  {
   "cell_type": "code",
   "execution_count": 8,
   "metadata": {},
   "outputs": [
    {
     "name": "stdout",
     "output_type": "stream",
     "text": [
      "['(-8,9)', '0.104916472143']\n",
      "['(-7,8)', '0.0255982696889']\n",
      "['(-6,7)', '1.86970654869e-05']\n",
      "['(-5,6)', '0.0285773529579']\n",
      "['(-4,5)', '0.111675668199']\n",
      "['(-2,2)', '0.109604068493']\n",
      "['(-1,1)', '0.0274684643977']\n",
      "['(0,0)', '-3.6961857048e-12']\n",
      "['(1,-1)', '0.0276036280523']\n",
      "['(2,-2)', '0.110685296309']\n",
      "['(4,-5)', '0.114448787547']\n",
      "['(5,-6)', '0.029430775301']\n",
      "['(6,-7)', '1.93498825973e-05']\n",
      "['(7,-8)', '0.0266218650024']\n",
      "['(8,-9)', '0.109645803096']\n"
     ]
    }
   ],
   "source": [
    "table = []\n",
    "for i in range(-10,10+1):\n",
    "    for j in range(-10,10+1):\n",
    "        v = mode(i,j)\n",
    "        if v < 0.2:\n",
    "            line = []\n",
    "            line.append(\"(\" + str(i) + \",\" + str(j) + \")\")\n",
    "            # approximated eigenvalue\n",
    "            line.append(str(v))\n",
    "            table.append(line)\n",
    "            print line"
   ]
  },
  {
   "cell_type": "code",
   "execution_count": 9,
   "metadata": {},
   "outputs": [
    {
     "name": "stdout",
     "output_type": "stream",
     "text": [
      "| mode   |   approximated |\n",
      "|:-------|---------------:|\n",
      "| (-8,9) |    0.104916    |\n",
      "| (-7,8) |    0.0255983   |\n",
      "| (-6,7) |    1.86971e-05 |\n",
      "| (-5,6) |    0.0285774   |\n",
      "| (-4,5) |    0.111676    |\n",
      "| (-2,2) |    0.109604    |\n",
      "| (-1,1) |    0.0274685   |\n",
      "| (0,0)  |   -3.69619e-12 |\n",
      "| (1,-1) |    0.0276036   |\n",
      "| (2,-2) |    0.110685    |\n",
      "| (4,-5) |    0.114449    |\n",
      "| (5,-6) |    0.0294308   |\n",
      "| (6,-7) |    1.93499e-05 |\n",
      "| (7,-8) |    0.0266219   |\n",
      "| (8,-9) |    0.109646    |\n"
     ]
    }
   ],
   "source": [
    "from tabulate import tabulate\n",
    "\n",
    "headers = [\"mode\", \"approximated\", \"exact\", \"absolute error\", \"relative error\"]\n",
    "print(tabulate(table, headers, tablefmt=\"pipe\"))"
   ]
  },
  {
   "cell_type": "code",
   "execution_count": null,
   "metadata": {
    "collapsed": true
   },
   "outputs": [],
   "source": []
  },
  {
   "cell_type": "code",
   "execution_count": null,
   "metadata": {
    "collapsed": true
   },
   "outputs": [],
   "source": []
  },
  {
   "cell_type": "code",
   "execution_count": null,
   "metadata": {
    "collapsed": true
   },
   "outputs": [],
   "source": [
    "# ... Finalizing Clapp\n",
    "clapp_utils.finalize()\n",
    "# ..."
   ]
  }
 ],
 "metadata": {
  "kernelspec": {
   "display_name": "Python 2",
   "language": "python",
   "name": "python2"
  },
  "language_info": {
   "codemirror_mode": {
    "name": "ipython",
    "version": 2
   },
   "file_extension": ".py",
   "mimetype": "text/x-python",
   "name": "python",
   "nbconvert_exporter": "python",
   "pygments_lexer": "ipython2",
   "version": "2.7.12"
  }
 },
 "nbformat": 4,
 "nbformat_minor": 2
}
