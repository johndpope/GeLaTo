{
 "cells": [
  {
   "cell_type": "markdown",
   "metadata": {},
   "source": [
    "# Tutorial 1: getting started with a 3D Laplace \n",
    "\n",
    "Let us consider the following weak formulation\n",
    "\n",
    "$$\\int_{\\Omega} N_i N_j + \\nabla N_i \\cdot \\nabla N_j ~d\\Omega$$\n",
    "\n",
    "In the case where $\\Omega$ is the unit cube, we should expect the GLT symbol\n",
    "\n",
    "$$\n",
    "\\mathfrak{m}_p(\\theta_1) \\mathfrak{m}_p(\\theta_2) \\mathfrak{m}_p(\\theta_3) + \\mathfrak{m}_p(\\theta_1) \\mathfrak{m}_p(\\theta_2) \\mathfrak{s}_p(\\theta_3) + \\mathfrak{m}_p(\\theta_1) \\mathfrak{s}_p(\\theta_2) \\mathfrak{m}_p(\\theta_3) + \\mathfrak{s}_p(\\theta_1) \\mathfrak{m}_p(\\theta_2) \\mathfrak{m}_p(\\theta_3)\n",
    "$$\n"
   ]
  },
  {
   "cell_type": "code",
   "execution_count": 1,
   "metadata": {},
   "outputs": [],
   "source": [
    "# ... some imports\n",
    "from sympy.core.containers import Tuple\n",
    "from sympy import symbols\n",
    "from sympy import Symbol\n",
    "from sympy import Lambda\n",
    "from sympy import IndexedBase\n",
    "\n",
    "from gelato.glt import glt_symbol\n",
    "from gelato.calculus   import (Dot, Cross, Grad, Curl, Rot, Div)\n",
    "from gelato.calculus   import Constant\n",
    "\n",
    "# TODO to be removed later\n",
    "DIM = 3\n",
    "# ..."
   ]
  },
  {
   "cell_type": "code",
   "execution_count": 2,
   "metadata": {},
   "outputs": [
    {
     "name": "stdout",
     "output_type": "stream",
     "text": [
      "> input       := Lambda((x, y, z, v, u), Dot(Grad(u), Grad(v)))\n",
      "> glt symbol  := m1*m2*s3 + m1*m3*s2 + m2*m3*s1\n"
     ]
    }
   ],
   "source": [
    "x,y,z = symbols('x y z')\n",
    "\n",
    "u = Symbol('u')\n",
    "v = Symbol('v')\n",
    "\n",
    "a = Lambda((x,y,z,v,u), Dot(Grad(u), Grad(v)))\n",
    "print '> input       := {0}'.format(a)\n",
    "\n",
    "# ... create a glt symbol from a string without evaluation\n",
    "#     a discretization is defined as a dictionary\n",
    "discretization = {\"n_elements\": [16, 16, 16], \"degrees\": [3, 3, 3]}\n",
    "\n",
    "expr = glt_symbol(a, dim=DIM, discretization=discretization, evaluate=False)\n",
    "print '> glt symbol  := {0}'.format(expr)\n"
   ]
  },
  {
   "cell_type": "markdown",
   "metadata": {},
   "source": [
    "We get a *sympy* expression, that we can manipulate like any other *sympy*\n",
    "expression. Let's print it"
   ]
  },
  {
   "cell_type": "code",
   "execution_count": 3,
   "metadata": {},
   "outputs": [
    {
     "name": "stdout",
     "output_type": "stream",
     "text": [
      "m1*m2*s3 + m1*m3*s2 + m2*m3*s1\n"
     ]
    }
   ],
   "source": [
    "print expr"
   ]
  },
  {
   "cell_type": "markdown",
   "metadata": {},
   "source": [
    "Good, but that's not readable for a human. You can now convert this expression to latex using\n"
   ]
  },
  {
   "cell_type": "code",
   "execution_count": 4,
   "metadata": {},
   "outputs": [],
   "source": [
    "from IPython.display import Math;\n",
    "from sympy import latex;"
   ]
  },
  {
   "cell_type": "code",
   "execution_count": 5,
   "metadata": {},
   "outputs": [
    {
     "data": {
      "text/latex": [
       "$$m_{1} m_{2} s_{3} + m_{1} m_{3} s_{2} + m_{2} m_{3} s_{1}$$"
      ],
      "text/plain": [
       "<IPython.core.display.Math object>"
      ]
     },
     "execution_count": 5,
     "metadata": {},
     "output_type": "execute_result"
    }
   ],
   "source": [
    "Math(latex(expr))"
   ]
  },
  {
   "cell_type": "markdown",
   "metadata": {},
   "source": [
    "For pretty printing, you may need the **glt_latex** function"
   ]
  },
  {
   "cell_type": "code",
   "execution_count": 6,
   "metadata": {},
   "outputs": [
    {
     "data": {
      "text/latex": [
       "$$\\mathfrak{m}_p(\\theta_1) \\mathfrak{m}_p(\\theta_2) \\mathfrak{s}_p(\\theta_3) + \\mathfrak{m}_p(\\theta_1) \\mathfrak{m}_p(\\theta_3) \\mathfrak{s}_p(\\theta_2) + \\mathfrak{m}_p(\\theta_2) \\mathfrak{m}_p(\\theta_3) \\mathfrak{s}_p(\\theta_1)$$"
      ],
      "text/plain": [
       "<IPython.core.display.Math object>"
      ]
     },
     "execution_count": 6,
     "metadata": {},
     "output_type": "execute_result"
    }
   ],
   "source": [
    "from gelato.printing.latex import glt_latex;\n",
    "Math(glt_latex(expr))"
   ]
  },
  {
   "cell_type": "markdown",
   "metadata": {},
   "source": [
    "Let's now **evaluate** our symbol (in the symbolic sens) in order to do some diagnostics"
   ]
  },
  {
   "cell_type": "code",
   "execution_count": 7,
   "metadata": {},
   "outputs": [],
   "source": [
    "expr = glt_symbol(a, dim=DIM, discretization=discretization, evaluate=True)"
   ]
  },
  {
   "cell_type": "markdown",
   "metadata": {},
   "source": [
    "We recall that the eigenvalues of the matrix associated to our weak formulation can be *approximated* by a *uniform sampling* of the symbol"
   ]
  },
  {
   "cell_type": "code",
   "execution_count": 8,
   "metadata": {},
   "outputs": [],
   "source": [
    "from gelato.glt import glt_approximate_eigenvalues\n",
    "eig = glt_approximate_eigenvalues(expr, discretization)"
   ]
  },
  {
   "cell_type": "code",
   "execution_count": 9,
   "metadata": {},
   "outputs": [],
   "source": [
    "%matplotlib inline\n",
    "import matplotlib.pyplot as plt"
   ]
  },
  {
   "cell_type": "code",
   "execution_count": 10,
   "metadata": {},
   "outputs": [
    {
     "data": {
      "image/png": "[encoded data removed]",
      "text/plain": [
       "<matplotlib.figure.Figure at 0x7ff1801c9650>"
      ]
     },
     "metadata": {},
     "output_type": "display_data"
    }
   ],
   "source": [
    "t = eig\n",
    "t.sort()\n",
    "plt.plot(t, \"+b\", label=\"glt symbol\")\n",
    "plt.legend(loc=2);"
   ]
  },
  {
   "cell_type": "markdown",
   "metadata": {},
   "source": [
    "We will see later, another way of plotting these eigenvalues.\n",
    "Another interesting feature of our symbol, is **numerical evaluation**. For this, you need to call the **glt_lambdify** function"
   ]
  },
  {
   "cell_type": "code",
   "execution_count": 11,
   "metadata": {},
   "outputs": [],
   "source": [
    "from gelato.glt import glt_lambdify\n",
    "\n",
    "f = glt_lambdify(expr)"
   ]
  },
  {
   "cell_type": "markdown",
   "metadata": {},
   "source": [
    "Now $f$ is a function that you can evaluate numerically."
   ]
  },
  {
   "cell_type": "code",
   "execution_count": 12,
   "metadata": {},
   "outputs": [
    {
     "data": {
      "text/plain": [
       "0.00029125724364162235"
      ]
     },
     "execution_count": 12,
     "metadata": {},
     "output_type": "execute_result"
    }
   ],
   "source": [
    "from numpy import pi\n",
    "f(0.1,0.1,0.1,pi, pi, pi)"
   ]
  },
  {
   "cell_type": "code",
   "execution_count": null,
   "metadata": {},
   "outputs": [],
   "source": []
  }
 ],
 "metadata": {
  "kernelspec": {
   "display_name": "Python 2",
   "language": "python",
   "name": "python2"
  },
  "language_info": {
   "codemirror_mode": {
    "name": "ipython",
    "version": 2
   },
   "file_extension": ".py",
   "mimetype": "text/x-python",
   "name": "python",
   "nbconvert_exporter": "python",
   "pygments_lexer": "ipython2",
   "version": "2.7.12"
  }
 },
 "nbformat": 4,
 "nbformat_minor": 2
}
