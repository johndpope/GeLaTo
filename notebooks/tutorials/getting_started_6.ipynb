{
 "cells": [
  {
   "cell_type": "markdown",
   "metadata": {},
   "source": [
    "# Tutorial 6\n",
    "\n",
    "In this tutorial, we consider the study and analysis of the eigenvalue problem associated to the following anisotropic diffusion operator\n",
    "$$\n",
    "- \\nabla \\cdot \\mathbf{b} \\otimes \\mathbf{b} \\nabla \\phi = \\omega^2 \\phi\n",
    "$$\n",
    "where $\\mathbf{b} = (\\iota, 1)$ is the normalized vector of the magnetic field."
   ]
  },
  {
   "cell_type": "code",
   "execution_count": 12,
   "metadata": {
    "collapsed": true
   },
   "outputs": [],
   "source": [
    "%matplotlib inline\n",
    "import matplotlib.pyplot as plt\n",
    "\n",
    "from vale import construct_model\n",
    "import numpy as np\n",
    "import os\n",
    "import clapp.common.utils      as clapp_utils\n",
    "\n",
    "# ... initializing Clapp\n",
    "clapp_utils.initialize()\n",
    "# ...\n",
    "\n",
    "# ...\n",
    "def construct_pde(filename, mapping, discretization):\n",
    "    # ... clean input directory. needed for Fortran\n",
    "    cmd = \"rm -rf input\"\n",
    "    os.system(cmd)\n",
    "    # ...\n",
    "\n",
    "    # ... creates discretization parameters\n",
    "    from clapp.disco.parameters.bspline import BSpline\n",
    "\n",
    "    bspline_params = BSpline(discretization[\"n_elements\"], \\\n",
    "                             discretization[\"degrees\"], \\\n",
    "                             bc_min=[1,1], \\\n",
    "                             bc_max=[1,1])\n",
    "    # ...\n",
    "\n",
    "    # ... create a context from discretization\n",
    "    from clapp.fema.context        import Context\n",
    "\n",
    "    context = Context(dirname=\"input\", \\\n",
    "                      discretization_params=bspline_params)\n",
    "    # ...\n",
    "\n",
    "    # ...\n",
    "    pde = construct_model(filename, backend=\"clapp\", \\\n",
    "                          context=context, mapping=mapping)\n",
    "    # ...\n",
    "    \n",
    "    # ... clean input directory\n",
    "    cmd = \"rm -rf input\"\n",
    "    os.system(cmd)\n",
    "    # ...\n",
    "    \n",
    "    return pde\n",
    "# ..."
   ]
  },
  {
   "cell_type": "markdown",
   "metadata": {},
   "source": [
    "We use **CAID** to create the geometry, then convert it to the *mapping* object from *CLAPP*"
   ]
  },
  {
   "cell_type": "code",
   "execution_count": 13,
   "metadata": {
    "collapsed": true
   },
   "outputs": [],
   "source": [
    "# ... creates a unit line geometry using CAID\n",
    "from caid.cad_geometry import square\n",
    "geometry = square()\n",
    "# ...\n",
    "    \n",
    "# ...\n",
    "from clapp.spl.mapping import Mapping\n",
    "mapping = Mapping(geometry=geometry)\n",
    "# ..."
   ]
  },
  {
   "cell_type": "markdown",
   "metadata": {},
   "source": [
    "We specify the discretization, by giving the number of elements and spline degrees in every direction"
   ]
  },
  {
   "cell_type": "code",
   "execution_count": 14,
   "metadata": {
    "collapsed": true
   },
   "outputs": [],
   "source": [
    "# ... define a discretization\n",
    "discretization = {\"n_elements\": [64,64], \"degrees\": [3,3]}\n",
    "# ..."
   ]
  },
  {
   "cell_type": "markdown",
   "metadata": {},
   "source": [
    "The following flag allows to assemble the involved matrices"
   ]
  },
  {
   "cell_type": "code",
   "execution_count": 15,
   "metadata": {
    "collapsed": true
   },
   "outputs": [],
   "source": [
    "with_matrix = False"
   ]
  },
  {
   "cell_type": "code",
   "execution_count": 16,
   "metadata": {
    "collapsed": true
   },
   "outputs": [],
   "source": [
    "pde = construct_pde(filename=\"../../glt/tests/2d/inputs/anisotropic_diffusion_2.vl\", \n",
    "                    mapping=mapping, \n",
    "                    discretization=discretization)\n",
    "\n",
    "form_a = pde[\"a\"]\n",
    "b1     = pde[\"b1\"]\n",
    "b2     = pde[\"b2\"]\n",
    "\n",
    "b1.set(\"1.1659397624413860850012270020670\")\n",
    "b2.set(\"1.0\")\n",
    "\n",
    "# ... compute the glt symbol and evaluate it\n",
    "from glt.expression import glt_symbol_from_weak_formulation\n",
    "\n",
    "expr_a = glt_symbol_from_weak_formulation(form_a, \n",
    "                                          verbose=False, evaluate=True, \n",
    "                                          discretization=discretization)\n",
    "# ..."
   ]
  },
  {
   "cell_type": "code",
   "execution_count": 17,
   "metadata": {},
   "outputs": [
    {
     "data": {
      "image/png": "[encoded data removed]",
      "text/plain": [
       "<matplotlib.figure.Figure at 0x7f8e1cbcad50>"
      ]
     },
     "metadata": {},
     "output_type": "display_data"
    }
   ],
   "source": [
    "from glt.expression import glt_approximate_eigenvalues\n",
    "t = glt_approximate_eigenvalues(expr_a, discretization)\n",
    "t.sort()\n",
    "plt.plot(t, \"+b\", label=\"glt symbol\")       \n",
    "# ...\n",
    "if with_matrix:\n",
    "    # ... assembling the linear system\n",
    "    form_a.assembler.assemble()\n",
    "    # ...\n",
    "    \n",
    "    # ...\n",
    "    from scipy.linalg import eig\n",
    "    M = form_a.matrix.get().todense()\n",
    "    w, v = eig(M)\n",
    "    wr = w.real\n",
    "    wr.sort()\n",
    "    plt.plot(wr, \"xr\", label=\"eigenvalues\")\n",
    "    # ...\n",
    "# ...\n",
    "plt.legend(loc=2);"
   ]
  },
  {
   "cell_type": "code",
   "execution_count": 18,
   "metadata": {
    "collapsed": true
   },
   "outputs": [],
   "source": [
    "pde2 = construct_pde(filename=\"../../glt/tests/2d/inputs/mass.vl\", \n",
    "                    mapping=mapping, \n",
    "                    discretization=discretization)\n",
    "\n",
    "form_c = pde2[\"c\"]\n",
    "\n",
    "# ... compute the glt symbol and evaluate it\n",
    "from glt.expression import glt_symbol_from_weak_formulation\n",
    "\n",
    "expr_c = glt_symbol_from_weak_formulation(form_c, \n",
    "                                          verbose=False, evaluate=True, \n",
    "                                          discretization=discretization)\n",
    "# ..."
   ]
  },
  {
   "cell_type": "code",
   "execution_count": 19,
   "metadata": {},
   "outputs": [
    {
     "data": {
      "image/png": "[encoded data removed]",
      "text/plain": [
       "<matplotlib.figure.Figure at 0x7f8e1a6039d0>"
      ]
     },
     "metadata": {},
     "output_type": "display_data"
    }
   ],
   "source": [
    "from glt.expression import glt_approximate_eigenvalues\n",
    "t = glt_approximate_eigenvalues(expr_c, discretization)\n",
    "t.sort()\n",
    "plt.plot(t, \"+b\", label=\"glt symbol\")       \n",
    "# ...\n",
    "\n",
    "if with_matrix:\n",
    "    # ... assembling the linear system\n",
    "    form_c.assembler.assemble()\n",
    "    # ...\n",
    "        \n",
    "    # ...\n",
    "    from scipy.linalg import eig\n",
    "    M = form_c.matrix.get().todense()\n",
    "    w, v = eig(M)\n",
    "    wr = w.real\n",
    "    wr.sort()\n",
    "    plt.plot(wr, \"xr\", label=\"eigenvalues\")\n",
    "    # ...\n",
    "# ...\n",
    "plt.legend(loc=2);"
   ]
  },
  {
   "cell_type": "code",
   "execution_count": 20,
   "metadata": {},
   "outputs": [
    {
     "data": {
      "image/png": "[encoded data removed]",
      "text/plain": [
       "<matplotlib.figure.Figure at 0x7f8e1a603050>"
      ]
     },
     "metadata": {},
     "output_type": "display_data"
    }
   ],
   "source": [
    "from glt.expression import glt_approximate_eigenvalues\n",
    "t_a = glt_approximate_eigenvalues(expr_a, discretization)\n",
    "t_c = glt_approximate_eigenvalues(expr_c, discretization)\n",
    "t = t_a / t_c\n",
    "\n",
    "t.sort()\n",
    "plt.plot(t, \"+b\", label=\"glt symbol\")       \n",
    "# ...\n",
    "\n",
    "if with_matrix:\n",
    "    # ...\n",
    "    from scipy.linalg import eig\n",
    "    A = form_a.matrix.get().todense()\n",
    "    C = form_c.matrix.get().todense()\n",
    "    w, v = eig(A, C)\n",
    "    wr = w.real\n",
    "    wr.sort()\n",
    "    plt.plot(wr, \"xr\", label=\"eigenvalues\")\n",
    "    # ...\n",
    "# ...\n",
    "plt.legend(loc=2);"
   ]
  },
  {
   "cell_type": "code",
   "execution_count": 21,
   "metadata": {},
   "outputs": [
    {
     "data": {
      "image/png": "[encoded data removed]",
      "text/plain": [
       "<matplotlib.figure.Figure at 0x7f8e1a6ac850>"
      ]
     },
     "metadata": {},
     "output_type": "display_data"
    }
   ],
   "source": [
    "plt.plot(t[:20], \"+b\", label=\"glt symbol\")\n",
    "\n",
    "if with_matrix:\n",
    "    plt.plot(wr[:20], \"xr\", label=\"eigenvalues\")\n",
    "plt.legend(loc=2);"
   ]
  },
  {
   "cell_type": "code",
   "execution_count": 22,
   "metadata": {},
   "outputs": [
    {
     "name": "stdout",
     "output_type": "stream",
     "text": [
      "[ -5.69998292e-13   1.42589272e-02   1.42589272e-02   1.07646138e+00\n",
      "   1.07646138e+00   1.08707790e+00   1.08707790e+00   1.14835674e+00\n",
      "   1.14835674e+00   4.34831231e+00]\n"
     ]
    }
   ],
   "source": [
    "print t[:10]"
   ]
  },
  {
   "cell_type": "markdown",
   "metadata": {
    "collapsed": true
   },
   "source": [
    "Since the glt symbols can be evaluated, let's plot their ratio "
   ]
  },
  {
   "cell_type": "code",
   "execution_count": 23,
   "metadata": {},
   "outputs": [
    {
     "data": {
      "image/png": "[encoded data removed]",
      "text/plain": [
       "<matplotlib.figure.Figure at 0x7f8e1a999310>"
      ]
     },
     "metadata": {},
     "output_type": "display_data"
    }
   ],
   "source": [
    "# ... lambdify the glt symbol\n",
    "from glt.expression import glt_lambdify\n",
    "\n",
    "f_a = glt_lambdify(expr_a, dim=2)\n",
    "f_c = glt_lambdify(expr_c, dim=2)\n",
    "# ...\n",
    "\n",
    "# ... compute the symbol f_a / f_c\n",
    "nx = 100 ; ny = 100\n",
    "t1 = np.linspace(-np.pi,np.pi, nx)\n",
    "t2 = np.linspace(-np.pi,np.pi, ny)\n",
    "\n",
    "u = np.linspace(0.,1.,nx)\n",
    "v = np.linspace(0.,1.,ny)\n",
    "\n",
    "x = mapping.evaluate(u,v)[0,:,:]\n",
    "y = mapping.evaluate(u,v)[1,:,:]\n",
    "\n",
    "t1, t2 = np.meshgrid(t1, t2)\n",
    "\n",
    "f = f_a(x,y,t1,t2)/f_c(x,y,t1,t2);\n",
    "# ...\n",
    "\n",
    "# ... plot\n",
    "plt.contourf(t1, t2, f)\n",
    "plt.axis(\"equal\")\n",
    "plt.colorbar();\n",
    "# ..."
   ]
  },
  {
   "cell_type": "code",
   "execution_count": 30,
   "metadata": {
    "collapsed": true
   },
   "outputs": [],
   "source": [
    "b_1 = 1.1659397624413860850012270020670 ; b_2 = 1.0\n",
    "N = discretization[\"n_elements\"][0] ; M = discretization[\"n_elements\"][1]\n",
    "n = range(-N/2, N/2+1) \n",
    "m = range(-M/2, M/2+1)\n",
    "n,m = np.meshgrid(n,m)\n",
    "e = (b_1*n + b_2*m)**2 / (4 * np.pi**2)"
   ]
  },
  {
   "cell_type": "code",
   "execution_count": 33,
   "metadata": {},
   "outputs": [
    {
     "name": "stdout",
     "output_type": "stream",
     "text": [
      "[  0.00000000e+00   4.81833677e-07   4.81833677e-07   1.92733471e-06\n",
      "   1.92733471e-06   4.33650309e-06   4.33650309e-06   7.70933882e-06\n",
      "   7.70933882e-06   5.58545339e-04]\n",
      "(4225,)\n"
     ]
    }
   ],
   "source": [
    "e = e.ravel()\n",
    "e.sort()\n",
    "print(e[:10])\n",
    "print e.shape"
   ]
  },
  {
   "cell_type": "code",
   "execution_count": 45,
   "metadata": {
    "collapsed": true
   },
   "outputs": [],
   "source": [
    "# ... Finalizing Clapp\n",
    "clapp_utils.finalize()\n",
    "# ..."
   ]
  },
  {
   "cell_type": "code",
   "execution_count": null,
   "metadata": {
    "collapsed": true
   },
   "outputs": [],
   "source": []
  }
 ],
 "metadata": {
  "kernelspec": {
   "display_name": "Python 2",
   "language": "python",
   "name": "python2"
  },
  "language_info": {
   "codemirror_mode": {
    "name": "ipython",
    "version": 2
   },
   "file_extension": ".py",
   "mimetype": "text/x-python",
   "name": "python",
   "nbconvert_exporter": "python",
   "pygments_lexer": "ipython2",
   "version": "2.7.12"
  }
 },
 "nbformat": 4,
 "nbformat_minor": 2
}
