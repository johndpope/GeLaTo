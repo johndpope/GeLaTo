{
 "cells": [
  {
   "cell_type": "code",
   "execution_count": 1,
   "metadata": {},
   "outputs": [],
   "source": [
    "# ... some imports\n",
    "from sympy.core.containers import Tuple\n",
    "from sympy import symbols\n",
    "from sympy import Symbol\n",
    "from sympy import Lambda\n",
    "from sympy import IndexedBase\n",
    "\n",
    "from gelato.glt import glt_symbol\n",
    "from gelato.calculus   import (Dot, Cross, Grad, Curl, Rot, Div)\n",
    "from gelato.calculus   import Constant\n",
    "\n",
    "%matplotlib inline\n",
    "import matplotlib.pyplot as plt\n",
    "\n",
    "# TODO to be removed later\n",
    "DIM = 3\n",
    "# ..."
   ]
  },
  {
   "cell_type": "code",
   "execution_count": 2,
   "metadata": {},
   "outputs": [
    {
     "name": "stdout",
     "output_type": "stream",
     "text": [
      "> input       := Lambda((x, y, z, v, u), c0*Dot(u, v) - c1*Div(u)*Div(v) + c2*Dot(Curl(Cross((bx, by, bz), u)), Curl(Cross((bx, by, bz), v))))\n",
      "> glt symbol  := Matrix([[by**2*c2*m1*m3*s2 + by**2*c2*m2*m3*s1 - 2*by*bz*c2*a2*a3*m1 + bz**2*c2*m1*m2*s3 + bz**2*c2*m2*m3*s1 + c0*m1*m2*m3 - c1*m2*m3*s1, -bx*by*c2*m1*m3*s2 - bx*by*c2*m2*m3*s1 + bx*bz*c2*a2*a3*m1 + by*bz*c2*a1*a3*m2 - bz**2*c2*a1*a2*m3 + c1*a1*a2*m3, bx*by*c2*a2*a3*m1 - bx*bz*c2*m1*m2*s3 - bx*bz*c2*m2*m3*s1 - by**2*c2*a1*a3*m2 + by*bz*c2*a1*a2*m3 + c1*a1*a3*m2], [-bx*by*c2*m1*m3*s2 - bx*by*c2*m2*m3*s1 + bx*bz*c2*a2*a3*m1 + by*bz*c2*a1*a3*m2 - bz**2*c2*a1*a2*m3 + c1*a1*a2*m3, bx**2*c2*m1*m3*s2 + bx**2*c2*m2*m3*s1 - 2*bx*bz*c2*a1*a3*m2 + bz**2*c2*m1*m2*s3 + bz**2*c2*m1*m3*s2 + c0*m1*m2*m3 - c1*m1*m3*s2, -bx**2*c2*a2*a3*m1 + bx*by*c2*a1*a3*m2 + bx*bz*c2*a1*a2*m3 - by*bz*c2*m1*m2*s3 - by*bz*c2*m1*m3*s2 + c1*a2*a3*m1], [bx*by*c2*a2*a3*m1 - bx*bz*c2*m1*m2*s3 - bx*bz*c2*m2*m3*s1 - by**2*c2*a1*a3*m2 + by*bz*c2*a1*a2*m3 + c1*a1*a3*m2, -bx**2*c2*a2*a3*m1 + bx*by*c2*a1*a3*m2 + bx*bz*c2*a1*a2*m3 - by*bz*c2*m1*m2*s3 - by*bz*c2*m1*m3*s2 + c1*a2*a3*m1, bx**2*c2*m1*m2*s3 + bx**2*c2*m2*m3*s1 - 2*bx*by*c2*a1*a2*m3 + by**2*c2*m1*m2*s3 + by**2*c2*m1*m3*s2 + c0*m1*m2*m3 - c1*m1*m2*s3]])\n"
     ]
    }
   ],
   "source": [
    "x,y,z = symbols('x y z')\n",
    "\n",
    "u = IndexedBase('u')\n",
    "v = IndexedBase('v')\n",
    "\n",
    "bx = Constant('bx')\n",
    "by = Constant('by')\n",
    "bz = Constant('bz')\n",
    "b = Tuple(bx, by, bz)\n",
    "\n",
    "c0 = Constant('c0')\n",
    "c1 = Constant('c1')\n",
    "c2 = Constant('c2')\n",
    "\n",
    "a = Lambda((x,y,z,v,u), (  c0 * Dot(u, v)\n",
    "                         - c1 * Div(u) * Div(v)\n",
    "                         + c2 *Dot(Curl(Cross(b,u)), Curl(Cross(b,v)))))\n",
    "print '> input       := {0}'.format(a)\n",
    "\n",
    "# ... create a glt symbol from a string without evaluation\n",
    "#     a discretization is defined as a dictionary\n",
    "discretization = {\"n_elements\": [16, 16, 16], \"degrees\": [3, 3, 3]}\n",
    "\n",
    "expr = glt_symbol(a, dim=DIM, discretization=discretization, evaluate=False, is_block=True)\n",
    "print '> glt symbol  := {0}'.format(expr)\n",
    "# ...\n"
   ]
  },
  {
   "cell_type": "code",
   "execution_count": 3,
   "metadata": {},
   "outputs": [],
   "source": [
    "from IPython.display import Math;\n",
    "from sympy import latex;"
   ]
  },
  {
   "cell_type": "code",
   "execution_count": 4,
   "metadata": {},
   "outputs": [
    {
     "data": {
      "text/latex": [
       "$$\\left[\\begin{matrix}by^{2} c_{2} m_{1} m_{3} s_{2} + by^{2} c_{2} m_{2} m_{3} s_{1} - 2 by bz c_{2} a_{2} a_{3} m_{1} + bz^{2} c_{2} m_{1} m_{2} s_{3} + bz^{2} c_{2} m_{2} m_{3} s_{1} + c_{0} m_{1} m_{2} m_{3} - c_{1} m_{2} m_{3} s_{1} & - bx by c_{2} m_{1} m_{3} s_{2} - bx by c_{2} m_{2} m_{3} s_{1} + bx bz c_{2} a_{2} a_{3} m_{1} + by bz c_{2} a_{1} a_{3} m_{2} - bz^{2} c_{2} a_{1} a_{2} m_{3} + c_{1} a_{1} a_{2} m_{3} & bx by c_{2} a_{2} a_{3} m_{1} - bx bz c_{2} m_{1} m_{2} s_{3} - bx bz c_{2} m_{2} m_{3} s_{1} - by^{2} c_{2} a_{1} a_{3} m_{2} + by bz c_{2} a_{1} a_{2} m_{3} + c_{1} a_{1} a_{3} m_{2}\\\\- bx by c_{2} m_{1} m_{3} s_{2} - bx by c_{2} m_{2} m_{3} s_{1} + bx bz c_{2} a_{2} a_{3} m_{1} + by bz c_{2} a_{1} a_{3} m_{2} - bz^{2} c_{2} a_{1} a_{2} m_{3} + c_{1} a_{1} a_{2} m_{3} & bx^{2} c_{2} m_{1} m_{3} s_{2} + bx^{2} c_{2} m_{2} m_{3} s_{1} - 2 bx bz c_{2} a_{1} a_{3} m_{2} + bz^{2} c_{2} m_{1} m_{2} s_{3} + bz^{2} c_{2} m_{1} m_{3} s_{2} + c_{0} m_{1} m_{2} m_{3} - c_{1} m_{1} m_{3} s_{2} & - bx^{2} c_{2} a_{2} a_{3} m_{1} + bx by c_{2} a_{1} a_{3} m_{2} + bx bz c_{2} a_{1} a_{2} m_{3} - by bz c_{2} m_{1} m_{2} s_{3} - by bz c_{2} m_{1} m_{3} s_{2} + c_{1} a_{2} a_{3} m_{1}\\\\bx by c_{2} a_{2} a_{3} m_{1} - bx bz c_{2} m_{1} m_{2} s_{3} - bx bz c_{2} m_{2} m_{3} s_{1} - by^{2} c_{2} a_{1} a_{3} m_{2} + by bz c_{2} a_{1} a_{2} m_{3} + c_{1} a_{1} a_{3} m_{2} & - bx^{2} c_{2} a_{2} a_{3} m_{1} + bx by c_{2} a_{1} a_{3} m_{2} + bx bz c_{2} a_{1} a_{2} m_{3} - by bz c_{2} m_{1} m_{2} s_{3} - by bz c_{2} m_{1} m_{3} s_{2} + c_{1} a_{2} a_{3} m_{1} & bx^{2} c_{2} m_{1} m_{2} s_{3} + bx^{2} c_{2} m_{2} m_{3} s_{1} - 2 bx by c_{2} a_{1} a_{2} m_{3} + by^{2} c_{2} m_{1} m_{2} s_{3} + by^{2} c_{2} m_{1} m_{3} s_{2} + c_{0} m_{1} m_{2} m_{3} - c_{1} m_{1} m_{2} s_{3}\\end{matrix}\\right]$$"
      ],
      "text/plain": [
       "<IPython.core.display.Math object>"
      ]
     },
     "execution_count": 4,
     "metadata": {},
     "output_type": "execute_result"
    }
   ],
   "source": [
    "Math(latex(expr))"
   ]
  },
  {
   "cell_type": "code",
   "execution_count": 7,
   "metadata": {},
   "outputs": [],
   "source": [
    "F = glt_symbol(a, dim=DIM, discretization=discretization, evaluate=True)"
   ]
  },
  {
   "cell_type": "code",
   "execution_count": 12,
   "metadata": {},
   "outputs": [
    {
     "data": {
      "text/plain": [
       "Lambda((x, y, z, t1, t2, t3), 2*bx**2*c2*(-49*sin(t2)/72 - 7*sin(2*t2)/45 - sin(3*t2)/360)*(-49*sin(t3)/72 - 7*sin(2*t3)/45 - sin(3*t3)/360)*(397*cos(t1)/13440 + cos(2*t1)/336 + cos(3*t1)/40320 + 2396825387/79999999672) + 2*bx**2*c2*(-4*cos(t1) - 32*cos(2*t1)/5 - 4*cos(3*t1)/15 + 32/3)*(397*cos(t2)/13440 + cos(2*t2)/336 + cos(3*t2)/40320 + 2396825387/79999999672)*(397*cos(t3)/13440 + cos(2*t3)/336 + cos(3*t3)/40320 + 2396825387/79999999672) + bx**2*c2*(397*cos(t1)/13440 + cos(2*t1)/336 + cos(3*t1)/40320 + 2396825387/79999999672)*(-4*cos(t2) - 32*cos(2*t2)/5 - 4*cos(3*t2)/15 + 32/3)*(397*cos(t3)/13440 + cos(2*t3)/336 + cos(3*t3)/40320 + 2396825387/79999999672) + bx**2*c2*(397*cos(t1)/13440 + cos(2*t1)/336 + cos(3*t1)/40320 + 2396825387/79999999672)*(397*cos(t2)/13440 + cos(2*t2)/336 + cos(3*t2)/40320 + 2396825387/79999999672)*(-4*cos(t3) - 32*cos(2*t3)/5 - 4*cos(3*t3)/15 + 32/3) + 2*bx*by*c2*(-49*sin(t1)/72 - 7*sin(2*t1)/45 - sin(3*t1)/360)*(-49*sin(t2)/72 - 7*sin(2*t2)/45 - sin(3*t2)/360)*(397*cos(t3)/13440 + cos(2*t3)/336 + cos(3*t3)/40320 + 2396825387/79999999672) - 2*bx*by*c2*(-49*sin(t1)/72 - 7*sin(2*t1)/45 - sin(3*t1)/360)*(-49*sin(t3)/72 - 7*sin(2*t3)/45 - sin(3*t3)/360)*(397*cos(t2)/13440 + cos(2*t2)/336 + cos(3*t2)/40320 + 2396825387/79999999672) - 2*bx*by*c2*(-49*sin(t2)/72 - 7*sin(2*t2)/45 - sin(3*t2)/360)*(-49*sin(t3)/72 - 7*sin(2*t3)/45 - sin(3*t3)/360)*(397*cos(t1)/13440 + cos(2*t1)/336 + cos(3*t1)/40320 + 2396825387/79999999672) - 2*bx*by*c2*(-4*cos(t1) - 32*cos(2*t1)/5 - 4*cos(3*t1)/15 + 32/3)*(397*cos(t2)/13440 + cos(2*t2)/336 + cos(3*t2)/40320 + 2396825387/79999999672)*(397*cos(t3)/13440 + cos(2*t3)/336 + cos(3*t3)/40320 + 2396825387/79999999672) - 2*bx*by*c2*(397*cos(t1)/13440 + cos(2*t1)/336 + cos(3*t1)/40320 + 2396825387/79999999672)*(-4*cos(t2) - 32*cos(2*t2)/5 - 4*cos(3*t2)/15 + 32/3)*(397*cos(t3)/13440 + cos(2*t3)/336 + cos(3*t3)/40320 + 2396825387/79999999672) - 2*bx*bz*c2*(-49*sin(t1)/72 - 7*sin(2*t1)/45 - sin(3*t1)/360)*(-49*sin(t2)/72 - 7*sin(2*t2)/45 - sin(3*t2)/360)*(397*cos(t3)/13440 + cos(2*t3)/336 + cos(3*t3)/40320 + 2396825387/79999999672) + 2*bx*bz*c2*(-49*sin(t1)/72 - 7*sin(2*t1)/45 - sin(3*t1)/360)*(-49*sin(t3)/72 - 7*sin(2*t3)/45 - sin(3*t3)/360)*(397*cos(t2)/13440 + cos(2*t2)/336 + cos(3*t2)/40320 + 2396825387/79999999672) - 2*bx*bz*c2*(-49*sin(t2)/72 - 7*sin(2*t2)/45 - sin(3*t2)/360)*(-49*sin(t3)/72 - 7*sin(2*t3)/45 - sin(3*t3)/360)*(397*cos(t1)/13440 + cos(2*t1)/336 + cos(3*t1)/40320 + 2396825387/79999999672) - 2*bx*bz*c2*(-4*cos(t1) - 32*cos(2*t1)/5 - 4*cos(3*t1)/15 + 32/3)*(397*cos(t2)/13440 + cos(2*t2)/336 + cos(3*t2)/40320 + 2396825387/79999999672)*(397*cos(t3)/13440 + cos(2*t3)/336 + cos(3*t3)/40320 + 2396825387/79999999672) - 2*bx*bz*c2*(397*cos(t1)/13440 + cos(2*t1)/336 + cos(3*t1)/40320 + 2396825387/79999999672)*(397*cos(t2)/13440 + cos(2*t2)/336 + cos(3*t2)/40320 + 2396825387/79999999672)*(-4*cos(t3) - 32*cos(2*t3)/5 - 4*cos(3*t3)/15 + 32/3) + 2*by**2*c2*(-49*sin(t1)/72 - 7*sin(2*t1)/45 - sin(3*t1)/360)*(-49*sin(t3)/72 - 7*sin(2*t3)/45 - sin(3*t3)/360)*(397*cos(t2)/13440 + cos(2*t2)/336 + cos(3*t2)/40320 + 2396825387/79999999672) + by**2*c2*(-4*cos(t1) - 32*cos(2*t1)/5 - 4*cos(3*t1)/15 + 32/3)*(397*cos(t2)/13440 + cos(2*t2)/336 + cos(3*t2)/40320 + 2396825387/79999999672)*(397*cos(t3)/13440 + cos(2*t3)/336 + cos(3*t3)/40320 + 2396825387/79999999672) + 2*by**2*c2*(397*cos(t1)/13440 + cos(2*t1)/336 + cos(3*t1)/40320 + 2396825387/79999999672)*(-4*cos(t2) - 32*cos(2*t2)/5 - 4*cos(3*t2)/15 + 32/3)*(397*cos(t3)/13440 + cos(2*t3)/336 + cos(3*t3)/40320 + 2396825387/79999999672) + by**2*c2*(397*cos(t1)/13440 + cos(2*t1)/336 + cos(3*t1)/40320 + 2396825387/79999999672)*(397*cos(t2)/13440 + cos(2*t2)/336 + cos(3*t2)/40320 + 2396825387/79999999672)*(-4*cos(t3) - 32*cos(2*t3)/5 - 4*cos(3*t3)/15 + 32/3) - 2*by*bz*c2*(-49*sin(t1)/72 - 7*sin(2*t1)/45 - sin(3*t1)/360)*(-49*sin(t2)/72 - 7*sin(2*t2)/45 - sin(3*t2)/360)*(397*cos(t3)/13440 + cos(2*t3)/336 + cos(3*t3)/40320 + 2396825387/79999999672) - 2*by*bz*c2*(-49*sin(t1)/72 - 7*sin(2*t1)/45 - sin(3*t1)/360)*(-49*sin(t3)/72 - 7*sin(2*t3)/45 - sin(3*t3)/360)*(397*cos(t2)/13440 + cos(2*t2)/336 + cos(3*t2)/40320 + 2396825387/79999999672) + 2*by*bz*c2*(-49*sin(t2)/72 - 7*sin(2*t2)/45 - sin(3*t2)/360)*(-49*sin(t3)/72 - 7*sin(2*t3)/45 - sin(3*t3)/360)*(397*cos(t1)/13440 + cos(2*t1)/336 + cos(3*t1)/40320 + 2396825387/79999999672) - 2*by*bz*c2*(397*cos(t1)/13440 + cos(2*t1)/336 + cos(3*t1)/40320 + 2396825387/79999999672)*(-4*cos(t2) - 32*cos(2*t2)/5 - 4*cos(3*t2)/15 + 32/3)*(397*cos(t3)/13440 + cos(2*t3)/336 + cos(3*t3)/40320 + 2396825387/79999999672) - 2*by*bz*c2*(397*cos(t1)/13440 + cos(2*t1)/336 + cos(3*t1)/40320 + 2396825387/79999999672)*(397*cos(t2)/13440 + cos(2*t2)/336 + cos(3*t2)/40320 + 2396825387/79999999672)*(-4*cos(t3) - 32*cos(2*t3)/5 - 4*cos(3*t3)/15 + 32/3) + 2*bz**2*c2*(-49*sin(t1)/72 - 7*sin(2*t1)/45 - sin(3*t1)/360)*(-49*sin(t2)/72 - 7*sin(2*t2)/45 - sin(3*t2)/360)*(397*cos(t3)/13440 + cos(2*t3)/336 + cos(3*t3)/40320 + 2396825387/79999999672) + bz**2*c2*(-4*cos(t1) - 32*cos(2*t1)/5 - 4*cos(3*t1)/15 + 32/3)*(397*cos(t2)/13440 + cos(2*t2)/336 + cos(3*t2)/40320 + 2396825387/79999999672)*(397*cos(t3)/13440 + cos(2*t3)/336 + cos(3*t3)/40320 + 2396825387/79999999672) + bz**2*c2*(397*cos(t1)/13440 + cos(2*t1)/336 + cos(3*t1)/40320 + 2396825387/79999999672)*(-4*cos(t2) - 32*cos(2*t2)/5 - 4*cos(3*t2)/15 + 32/3)*(397*cos(t3)/13440 + cos(2*t3)/336 + cos(3*t3)/40320 + 2396825387/79999999672) + 2*bz**2*c2*(397*cos(t1)/13440 + cos(2*t1)/336 + cos(3*t1)/40320 + 2396825387/79999999672)*(397*cos(t2)/13440 + cos(2*t2)/336 + cos(3*t2)/40320 + 2396825387/79999999672)*(-4*cos(t3) - 32*cos(2*t3)/5 - 4*cos(3*t3)/15 + 32/3) + c0*Ni1*Ni2*Ni3[0]*Nj1*Nj2*Nj3[0] + c0*Ni1*Ni2*Ni3[1]*Nj1*Nj2*Nj3[1] + c0*Ni1*Ni2*Ni3[2]*Nj1*Nj2*Nj3[2] - 2*c1*(-49*sin(t1)/72 - 7*sin(2*t1)/45 - sin(3*t1)/360)*(-49*sin(t2)/72 - 7*sin(2*t2)/45 - sin(3*t2)/360)*(397*cos(t3)/13440 + cos(2*t3)/336 + cos(3*t3)/40320 + 2396825387/79999999672) - 2*c1*(-49*sin(t1)/72 - 7*sin(2*t1)/45 - sin(3*t1)/360)*(-49*sin(t3)/72 - 7*sin(2*t3)/45 - sin(3*t3)/360)*(397*cos(t2)/13440 + cos(2*t2)/336 + cos(3*t2)/40320 + 2396825387/79999999672) - 2*c1*(-49*sin(t2)/72 - 7*sin(2*t2)/45 - sin(3*t2)/360)*(-49*sin(t3)/72 - 7*sin(2*t3)/45 - sin(3*t3)/360)*(397*cos(t1)/13440 + cos(2*t1)/336 + cos(3*t1)/40320 + 2396825387/79999999672) - c1*(-4*cos(t1) - 32*cos(2*t1)/5 - 4*cos(3*t1)/15 + 32/3)*(397*cos(t2)/13440 + cos(2*t2)/336 + cos(3*t2)/40320 + 2396825387/79999999672)*(397*cos(t3)/13440 + cos(2*t3)/336 + cos(3*t3)/40320 + 2396825387/79999999672) - c1*(397*cos(t1)/13440 + cos(2*t1)/336 + cos(3*t1)/40320 + 2396825387/79999999672)*(-4*cos(t2) - 32*cos(2*t2)/5 - 4*cos(3*t2)/15 + 32/3)*(397*cos(t3)/13440 + cos(2*t3)/336 + cos(3*t3)/40320 + 2396825387/79999999672) - c1*(397*cos(t1)/13440 + cos(2*t1)/336 + cos(3*t1)/40320 + 2396825387/79999999672)*(397*cos(t2)/13440 + cos(2*t2)/336 + cos(3*t2)/40320 + 2396825387/79999999672)*(-4*cos(t3) - 32*cos(2*t3)/5 - 4*cos(3*t3)/15 + 32/3))"
      ]
     },
     "execution_count": 12,
     "metadata": {},
     "output_type": "execute_result"
    }
   ],
   "source": [
    "F"
   ]
  },
  {
   "cell_type": "code",
   "execution_count": 11,
   "metadata": {},
   "outputs": [
    {
     "name": "stdout",
     "output_type": "stream",
     "text": [
      "-2.0*(-49*sin(t1)/72 - 7*sin(2*t1)/45 - sin(3*t1)/360)*(-49*sin(t2)/72 - 7*sin(2*t2)/45 - sin(3*t2)/360)*(397*cos(t3)/13440 + cos(2*t3)/336 + cos(3*t3)/40320 + 2396825387/79999999672) - 0.195*(-49*sin(t1)/72 - 7*sin(2*t1)/45 - sin(3*t1)/360)*(-49*sin(t3)/72 - 7*sin(2*t3)/45 - sin(3*t3)/360)*(397*cos(t2)/13440 + cos(2*t2)/336 + cos(3*t2)/40320 + 2396825387/79999999672) - 2.0*(-49*sin(t2)/72 - 7*sin(2*t2)/45 - sin(3*t2)/360)*(-49*sin(t3)/72 - 7*sin(2*t3)/45 - sin(3*t3)/360)*(397*cos(t1)/13440 + cos(2*t1)/336 + cos(3*t1)/40320 + 2396825387/79999999672) - 0.0975000000000001*(-4*cos(t1) - 32*cos(2*t1)/5 - 4*cos(3*t1)/15 + 32/3)*(397*cos(t2)/13440 + cos(2*t2)/336 + cos(3*t2)/40320 + 2396825387/79999999672)*(397*cos(t3)/13440 + cos(2*t3)/336 + cos(3*t3)/40320 + 2396825387/79999999672) + 0.805*(397*cos(t1)/13440 + cos(2*t1)/336 + cos(3*t1)/40320 + 2396825387/79999999672)*(-4*cos(t2) - 32*cos(2*t2)/5 - 4*cos(3*t2)/15 + 32/3)*(397*cos(t3)/13440 + cos(2*t3)/336 + cos(3*t3)/40320 + 2396825387/79999999672) - 0.0975000000000001*(397*cos(t1)/13440 + cos(2*t1)/336 + cos(3*t1)/40320 + 2396825387/79999999672)*(397*cos(t2)/13440 + cos(2*t2)/336 + cos(3*t2)/40320 + 2396825387/79999999672)*(-4*cos(t3) - 32*cos(2*t3)/5 - 4*cos(3*t3)/15 + 32/3) + 1.0*Ni1*Ni2*Ni3[0]*Nj1*Nj2*Nj3[0] + 1.0*Ni1*Ni2*Ni3[1]*Nj1*Nj2*Nj3[1] + 1.0*Ni1*Ni2*Ni3[2]*Nj1*Nj2*Nj3[2]\n"
     ]
    }
   ],
   "source": [
    "constants = {\"bx\": 1., \"by\": 0.05, \"bz\":1.0, \n",
    "             \"c0\":1.0, \"c1\":1.0, \"c2\":1.0}\n",
    "\n",
    "expr = F.expr\n",
    "for key, value in constants.items():\n",
    "    expr = expr.subs({Constant(key): value})\n",
    "print expr"
   ]
  },
  {
   "cell_type": "code",
   "execution_count": 7,
   "metadata": {},
   "outputs": [],
   "source": [
    "from gelato.glt import glt_lambdify\n",
    "\n",
    "f = glt_lambdify(expr)"
   ]
  },
  {
   "cell_type": "code",
   "execution_count": 9,
   "metadata": {},
   "outputs": [
    {
     "data": {
      "text/plain": [
       "Lambda((x, y, z, t1, t2, t3), -2.0*(-49*sin(t1)/72 - 7*sin(2*t1)/45 - sin(3*t1)/360)*(-49*sin(t2)/72 - 7*sin(2*t2)/45 - sin(3*t2)/360)*(397*cos(t3)/13440 + cos(2*t3)/336 + cos(3*t3)/40320 + 2396825387/79999999672) - 0.195*(-49*sin(t1)/72 - 7*sin(2*t1)/45 - sin(3*t1)/360)*(-49*sin(t3)/72 - 7*sin(2*t3)/45 - sin(3*t3)/360)*(397*cos(t2)/13440 + cos(2*t2)/336 + cos(3*t2)/40320 + 2396825387/79999999672) - 2.0*(-49*sin(t2)/72 - 7*sin(2*t2)/45 - sin(3*t2)/360)*(-49*sin(t3)/72 - 7*sin(2*t3)/45 - sin(3*t3)/360)*(397*cos(t1)/13440 + cos(2*t1)/336 + cos(3*t1)/40320 + 2396825387/79999999672) - 0.0975*(-4*cos(t1) - 32*cos(2*t1)/5 - 4*cos(3*t1)/15 + 32/3)*(397*cos(t2)/13440 + cos(2*t2)/336 + cos(3*t2)/40320 + 2396825387/79999999672)*(397*cos(t3)/13440 + cos(2*t3)/336 + cos(3*t3)/40320 + 2396825387/79999999672) + 0.805*(397*cos(t1)/13440 + cos(2*t1)/336 + cos(3*t1)/40320 + 2396825387/79999999672)*(-4*cos(t2) - 32*cos(2*t2)/5 - 4*cos(3*t2)/15 + 32/3)*(397*cos(t3)/13440 + cos(2*t3)/336 + cos(3*t3)/40320 + 2396825387/79999999672) - 0.0975*(397*cos(t1)/13440 + cos(2*t1)/336 + cos(3*t1)/40320 + 2396825387/79999999672)*(397*cos(t2)/13440 + cos(2*t2)/336 + cos(3*t2)/40320 + 2396825387/79999999672)*(-4*cos(t3) - 32*cos(2*t3)/5 - 4*cos(3*t3)/15 + 32/3) + 1.0*Ni1*Ni2*Ni3[0]*Nj1*Nj2*Nj3[0] + 1.0*Ni1*Ni2*Ni3[1]*Nj1*Nj2*Nj3[1] + 1.0*Ni1*Ni2*Ni3[2]*Nj1*Nj2*Nj3[2])"
      ]
     },
     "execution_count": 9,
     "metadata": {},
     "output_type": "execute_result"
    }
   ],
   "source": [
    "expr"
   ]
  },
  {
   "cell_type": "code",
   "execution_count": 8,
   "metadata": {},
   "outputs": [
    {
     "ename": "TypeError",
     "evalue": "'Symbol' object does not support indexing",
     "output_type": "error",
     "traceback": [
      "\u001b[0;31m---------------------------------------------------------------------------\u001b[0m",
      "\u001b[0;31mTypeError\u001b[0m                                 Traceback (most recent call last)",
      "\u001b[0;32m<ipython-input-8-d19efa506426>\u001b[0m in \u001b[0;36m<module>\u001b[0;34m()\u001b[0m\n\u001b[1;32m      1\u001b[0m \u001b[0;32mfrom\u001b[0m \u001b[0mnumpy\u001b[0m \u001b[0;32mimport\u001b[0m \u001b[0mpi\u001b[0m\u001b[0;34m\u001b[0m\u001b[0m\n\u001b[0;32m----> 2\u001b[0;31m \u001b[0mf\u001b[0m\u001b[0;34m(\u001b[0m\u001b[0;36m0.1\u001b[0m\u001b[0;34m,\u001b[0m\u001b[0;36m0.1\u001b[0m\u001b[0;34m,\u001b[0m\u001b[0;36m0.1\u001b[0m\u001b[0;34m,\u001b[0m\u001b[0mpi\u001b[0m\u001b[0;34m,\u001b[0m \u001b[0mpi\u001b[0m\u001b[0;34m,\u001b[0m \u001b[0mpi\u001b[0m\u001b[0;34m)\u001b[0m\u001b[0;34m\u001b[0m\u001b[0m\n\u001b[0m",
      "\u001b[0;32m/usr/local/lib/python2.7/dist-packages/sympy/utilities/lambdify.pyc\u001b[0m in \u001b[0;36mwrapper\u001b[0;34m(*argsx, **kwargsx)\u001b[0m\n\u001b[1;32m    442\u001b[0m                 newargs = [asarray(i) if isinstance(i, integer_types + (float,\n\u001b[1;32m    443\u001b[0m                     complex)) else i for i in argsx]\n\u001b[0;32m--> 444\u001b[0;31m                 \u001b[0;32mreturn\u001b[0m \u001b[0mfuncarg\u001b[0m\u001b[0;34m(\u001b[0m\u001b[0;34m*\u001b[0m\u001b[0mnewargs\u001b[0m\u001b[0;34m,\u001b[0m \u001b[0;34m**\u001b[0m\u001b[0mkwargsx\u001b[0m\u001b[0;34m)\u001b[0m\u001b[0;34m\u001b[0m\u001b[0m\n\u001b[0m\u001b[1;32m    445\u001b[0m             \u001b[0;32mreturn\u001b[0m \u001b[0mwrapper\u001b[0m\u001b[0;34m\u001b[0m\u001b[0m\n\u001b[1;32m    446\u001b[0m         \u001b[0mfunc\u001b[0m \u001b[0;34m=\u001b[0m \u001b[0marray_wrap\u001b[0m\u001b[0;34m(\u001b[0m\u001b[0mfunc\u001b[0m\u001b[0;34m)\u001b[0m\u001b[0;34m\u001b[0m\u001b[0m\n",
      "\u001b[0;32m/usr/lib/python2.7/dist-packages/numpy/__init__.pyc\u001b[0m in \u001b[0;36m<lambda>\u001b[0;34m(_Dummy_94, _Dummy_95, _Dummy_96, _Dummy_97, _Dummy_98, _Dummy_99)\u001b[0m\n",
      "\u001b[0;31mTypeError\u001b[0m: 'Symbol' object does not support indexing"
     ]
    }
   ],
   "source": [
    "from numpy import pi\n",
    "f(0.1,0.1,0.1,pi, pi, pi)"
   ]
  },
  {
   "cell_type": "code",
   "execution_count": null,
   "metadata": {},
   "outputs": [],
   "source": [
    "from gelato.glt import glt_approximate_eigenvalues\n",
    "eig = glt_approximate_eigenvalues(expr, discretization, is_block=True)"
   ]
  },
  {
   "cell_type": "code",
   "execution_count": null,
   "metadata": {},
   "outputs": [],
   "source": [
    "t = eig\n",
    "t.sort()\n",
    "plt.plot(t, \"+b\", label=\"glt symbol\")\n",
    "plt.legend(loc=2);"
   ]
  }
 ],
 "metadata": {
  "kernelspec": {
   "display_name": "Python 2",
   "language": "python",
   "name": "python2"
  },
  "language_info": {
   "codemirror_mode": {
    "name": "ipython",
    "version": 2
   },
   "file_extension": ".py",
   "mimetype": "text/x-python",
   "name": "python",
   "nbconvert_exporter": "python",
   "pygments_lexer": "ipython2",
   "version": "2.7.12"
  }
 },
 "nbformat": 4,
 "nbformat_minor": 2
}
