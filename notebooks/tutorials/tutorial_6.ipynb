{
 "cells": [
  {
   "cell_type": "markdown",
   "metadata": {},
   "source": [
    "# Tutorial 6: 2D Anisotropic Diffusion\n",
    "\n",
    "\n",
    "In this tutorial, we consider the following anisotropic diffusion problem\n",
    "\n",
    "$$\n",
    "\ta(v, u) = \\int_{\\Omega}  \\frac{\\kappa_{\\parallel}}{\\|\\mathbf{B}\\|^2} (\\textbf{B} \\cdot \\nabla v) (\\textbf{B} \\cdot \\nabla u) + \\kappa_{I} \\nabla v \\cdot \\nabla u d\\Omega, \\quad \\forall u,v \\in \\mathcal{V}_h\n",
    "$$\n",
    "\n",
    "where $\\textbf{B}$ denotes the magnetic field, $\\Omega$ is our 2D computational domain and $\\mathcal{V}_h \\subset H^1(\\Omega)$. \n",
    "We are interested in highly anisotropic configurations with $\\displaystyle \\frac{\\kappa_{\\parallel}}{\\kappa_{I}} \\simeq 10^6 \\gg 1$.\n"
   ]
  },
  {
   "cell_type": "code",
   "execution_count": 1,
   "metadata": {
    "collapsed": true
   },
   "outputs": [],
   "source": [
    "%matplotlib inline\n",
    "import matplotlib.pyplot as plt\n",
    "\n",
    "from vale import construct_model\n",
    "import numpy as np\n",
    "import os\n",
    "import clapp.common.utils      as clapp_utils\n",
    "\n",
    "# ... initializing Clapp\n",
    "clapp_utils.initialize()\n",
    "# ...\n",
    "\n",
    "# ...\n",
    "def construct_pde(filename, mapping, discretization):\n",
    "    # ... clean input directory. needed for Fortran\n",
    "    cmd = \"rm -rf input\"\n",
    "    os.system(cmd)\n",
    "    # ...\n",
    "\n",
    "    # ... creates discretization parameters\n",
    "    from clapp.disco.parameters.bspline import BSpline\n",
    "\n",
    "    bspline_params = BSpline(discretization[\"n_elements\"], \\\n",
    "                             discretization[\"degrees\"], \\\n",
    "                             bc_min=[1,1], \\\n",
    "                             bc_max=[1,1])\n",
    "    # ...\n",
    "\n",
    "    # ... create a context from discretization\n",
    "    from clapp.fema.context        import Context\n",
    "\n",
    "    context = Context(dirname=\"input\", \\\n",
    "                      discretization_params=bspline_params)\n",
    "    # ...\n",
    "\n",
    "    # ...\n",
    "    pde = construct_model(filename, backend=\"clapp\", \\\n",
    "                          context=context, mapping=mapping)\n",
    "    # ...\n",
    "    \n",
    "    # ... clean input directory\n",
    "    cmd = \"rm -rf input\"\n",
    "    os.system(cmd)\n",
    "    # ...\n",
    "    \n",
    "    return pde\n",
    "# ..."
   ]
  },
  {
   "cell_type": "markdown",
   "metadata": {},
   "source": [
    "We use **CAID** to create the geometry, then convert it to the *mapping* object from *CLAPP*"
   ]
  },
  {
   "cell_type": "code",
   "execution_count": 2,
   "metadata": {
    "collapsed": true
   },
   "outputs": [],
   "source": [
    "# ... creates a unit line geometry using CAID\n",
    "from caid.cad_geometry import square\n",
    "geometry = square()\n",
    "# ...\n",
    "    \n",
    "# ...\n",
    "from clapp.spl.mapping import Mapping\n",
    "mapping = Mapping(geometry=geometry)\n",
    "# ..."
   ]
  },
  {
   "cell_type": "markdown",
   "metadata": {},
   "source": [
    "The following flag allows to assemble the involved matrices"
   ]
  },
  {
   "cell_type": "code",
   "execution_count": 5,
   "metadata": {},
   "outputs": [],
   "source": [
    "with_matrix = False"
   ]
  },
  {
   "cell_type": "code",
   "execution_count": 17,
   "metadata": {
    "collapsed": true
   },
   "outputs": [],
   "source": [
    "def anotate_pde(pde, constants):\n",
    "    form = pde[\"a\"]\n",
    "    b1   = pde[\"b1\"]\n",
    "    b2   = pde[\"b2\"]\n",
    "\n",
    "    # ... set user functions\n",
    "    b1.set(\"1.1659397624413860850012270020670/1.5360389088958246\")\n",
    "    b2.set(\"1.0/1.5360389088958246\")\n",
    "    # ...\n",
    "\n",
    "    # ... set user constants\n",
    "    form.assembler.set_constants(constants)\n",
    "    # ..."
   ]
  },
  {
   "cell_type": "code",
   "execution_count": 26,
   "metadata": {
    "collapsed": true
   },
   "outputs": [],
   "source": [
    "constants = {\"alpha\": 1.e4, \"beta\": 1.}"
   ]
  },
  {
   "cell_type": "code",
   "execution_count": 27,
   "metadata": {
    "collapsed": true
   },
   "outputs": [],
   "source": [
    "# ... define a discretization\n",
    "discretization = {\"n_elements\": [64,64], \"degrees\": [4,4]}\n",
    "# ...\n",
    "\n",
    "pde = construct_pde(filename=\"../../glt/tests/2d/inputs/anisotropic_diffusion.vl\", \n",
    "                    mapping=mapping, \n",
    "                    discretization=discretization)\n",
    "\n",
    "anotate_pde(pde, constants)\n",
    "\n",
    "# ... compute the glt symbol and evaluate it\n",
    "from glt.expression import glt_symbol_from_weak_formulation\n",
    "\n",
    "expr_a = glt_symbol_from_weak_formulation(pde[\"a\"], \n",
    "                                          verbose=False, evaluate=True, \n",
    "                                          discretization=discretization, \n",
    "                                          user_constants=constants)\n",
    "# ..."
   ]
  },
  {
   "cell_type": "code",
   "execution_count": 28,
   "metadata": {},
   "outputs": [
    {
     "data": {
      "image/png": "[encoded data removed]",
      "text/plain": [
       "<matplotlib.figure.Figure at 0x7f553b828cd0>"
      ]
     },
     "metadata": {},
     "output_type": "display_data"
    }
   ],
   "source": [
    "# ... lambdify the glt symbol\n",
    "from glt.expression import glt_lambdify\n",
    "\n",
    "f_a = glt_lambdify(expr_a, dim=2)\n",
    "# ...\n",
    "\n",
    "# ... compute the symbol f_a / f_c\n",
    "nx = 100 ; ny = 100\n",
    "t1 = np.linspace(-np.pi,np.pi, nx)\n",
    "t2 = np.linspace(-np.pi,np.pi, ny)\n",
    "\n",
    "u = np.linspace(0.,1.,nx)\n",
    "v = np.linspace(0.,1.,ny)\n",
    "\n",
    "x = mapping.evaluate(u,v)[0,:,:]\n",
    "y = mapping.evaluate(u,v)[1,:,:]\n",
    "\n",
    "t1, t2 = np.meshgrid(t1, t2)\n",
    "\n",
    "f = f_a(x,y,t1,t2);\n",
    "# ...\n",
    "\n",
    "# ... plot\n",
    "plt.contourf(t1, t2, f)\n",
    "plt.axis(\"equal\")\n",
    "plt.colorbar();\n",
    "# ..."
   ]
  },
  {
   "cell_type": "code",
   "execution_count": 29,
   "metadata": {},
   "outputs": [
    {
     "data": {
      "image/png": "[encoded data removed]",
      "text/plain": [
       "<matplotlib.figure.Figure at 0x7f553b672110>"
      ]
     },
     "metadata": {},
     "output_type": "display_data"
    }
   ],
   "source": [
    "F = f.ravel()\n",
    "F.sort()\n",
    "plt.plot(F, \"-b\", label=\"$f_a$\")\n",
    "plt.legend();"
   ]
  },
  {
   "cell_type": "markdown",
   "metadata": {},
   "source": [
    "Let's now create the symbol for linear B-Splines"
   ]
  },
  {
   "cell_type": "code",
   "execution_count": 30,
   "metadata": {
    "collapsed": true
   },
   "outputs": [],
   "source": [
    "# ... define a discretization\n",
    "discretization_p = {\"n_elements\": discretization[\"n_elements\"], \"degrees\": [1,1]}\n",
    "# ...\n",
    "\n",
    "pde_p = construct_pde(filename=\"../../glt/tests/2d/inputs/anisotropic_diffusion.vl\", \n",
    "                    mapping=mapping, \n",
    "                    discretization=discretization_p)\n",
    "\n",
    "anotate_pde(pde_p, constants)\n",
    "\n",
    "# ... compute the glt symbol and evaluate it\n",
    "from glt.expression import glt_symbol_from_weak_formulation\n",
    "\n",
    "expr_p = glt_symbol_from_weak_formulation(pde_p[\"a\"], \n",
    "                                          verbose=False, evaluate=True, \n",
    "                                          discretization=discretization_p, \n",
    "                                          user_constants=constants)\n",
    "# ..."
   ]
  },
  {
   "cell_type": "code",
   "execution_count": 34,
   "metadata": {},
   "outputs": [
    {
     "data": {
      "image/png": "[encoded data removed]",
      "text/plain": [
       "<matplotlib.figure.Figure at 0x7f5568088210>"
      ]
     },
     "metadata": {},
     "output_type": "display_data"
    }
   ],
   "source": [
    "# ... lambdify the glt symbol\n",
    "from glt.expression import glt_lambdify\n",
    "\n",
    "f_a = glt_lambdify(expr_a, dim=2)\n",
    "f_p = glt_lambdify(expr_p, dim=2)\n",
    "# ...\n",
    "\n",
    "# ... compute the symbol f_a / f_p\n",
    "nx = 100 ; ny = 100\n",
    "t1 = np.linspace(-np.pi,np.pi, nx)\n",
    "t2 = np.linspace(-np.pi,np.pi, ny)\n",
    "\n",
    "u = np.linspace(0.,1.,nx)\n",
    "v = np.linspace(0.,1.,ny)\n",
    "\n",
    "x = mapping.evaluate(u,v)[0,:,:]\n",
    "y = mapping.evaluate(u,v)[1,:,:]\n",
    "\n",
    "t1, t2 = np.meshgrid(t1, t2)\n",
    "\n",
    "f = f_a(x,y,t1,t2)/f_p(x,y,t1,t2);\n",
    "# ...\n",
    "\n",
    "# ... plot\n",
    "plt.contourf(t1, t2, f)\n",
    "plt.axis(\"equal\")\n",
    "plt.colorbar();\n",
    "# ..."
   ]
  },
  {
   "cell_type": "markdown",
   "metadata": {},
   "source": [
    "Now, let's fix the high order pathology"
   ]
  },
  {
   "cell_type": "code",
   "execution_count": 35,
   "metadata": {
    "collapsed": true
   },
   "outputs": [],
   "source": [
    "discretization_c = {\"n_elements\": discretization[\"n_elements\"], \n",
    "                    \"degrees\": [discretization[\"degrees\"][0]-1,discretization[\"degrees\"][1]-1]}\n",
    "\n",
    "pde_c = construct_pde(filename=\"../../glt/tests/2d/inputs/mass.vl\", \n",
    "                    mapping=mapping, \n",
    "                    discretization=discretization)\n",
    "\n",
    "form_c = pde_c[\"c\"]\n",
    "\n",
    "# ... compute the glt symbol and evaluate it\n",
    "from glt.expression import glt_symbol_from_weak_formulation\n",
    "\n",
    "expr_c = glt_symbol_from_weak_formulation(form_c, \n",
    "                                          verbose=False, evaluate=True, \n",
    "                                          discretization=discretization)\n",
    "\n",
    "from glt.expression import glt_update_user_functions\n",
    "expr_c = glt_update_user_functions(expr_c, form_c.functions)\n",
    "# ..."
   ]
  },
  {
   "cell_type": "code",
   "execution_count": 36,
   "metadata": {},
   "outputs": [
    {
     "data": {
      "image/png": "[encoded data removed]",
      "text/plain": [
       "<matplotlib.figure.Figure at 0x7f553b718710>"
      ]
     },
     "metadata": {},
     "output_type": "display_data"
    }
   ],
   "source": [
    "# ... lambdify the glt symbol\n",
    "from glt.expression import glt_lambdify\n",
    "\n",
    "f_a = glt_lambdify(expr_a, dim=2)\n",
    "f_p = glt_lambdify(expr_p, dim=2)\n",
    "f_c = glt_lambdify(expr_c, dim=2)\n",
    "# ...\n",
    "\n",
    "# ... compute the symbol f_a / (f_p*f_c)\n",
    "nx = 100 ; ny = 100\n",
    "t1 = np.linspace(-np.pi,np.pi, nx)\n",
    "t2 = np.linspace(-np.pi,np.pi, ny)\n",
    "\n",
    "u = np.linspace(0.,1.,nx)\n",
    "v = np.linspace(0.,1.,ny)\n",
    "\n",
    "x = mapping.evaluate(u,v)[0,:,:]\n",
    "y = mapping.evaluate(u,v)[1,:,:]\n",
    "\n",
    "t1, t2 = np.meshgrid(t1, t2)\n",
    "\n",
    "f = f_a(x,y,t1,t2)/(f_p(x,y,t1,t2)*f_c(x,y,t1,t2));\n",
    "# ...\n",
    "\n",
    "# ... plot\n",
    "plt.contourf(t1, t2, f)\n",
    "plt.axis(\"equal\")\n",
    "plt.colorbar();\n",
    "# ..."
   ]
  },
  {
   "cell_type": "code",
   "execution_count": 37,
   "metadata": {
    "collapsed": true
   },
   "outputs": [],
   "source": [
    "# ... Finalizing Clapp\n",
    "clapp_utils.finalize()\n",
    "# ..."
   ]
  },
  {
   "cell_type": "code",
   "execution_count": null,
   "metadata": {
    "collapsed": true
   },
   "outputs": [],
   "source": []
  }
 ],
 "metadata": {
  "kernelspec": {
   "display_name": "Python 2",
   "language": "python",
   "name": "python2"
  },
  "language_info": {
   "codemirror_mode": {
    "name": "ipython",
    "version": 2
   },
   "file_extension": ".py",
   "mimetype": "text/x-python",
   "name": "python",
   "nbconvert_exporter": "python",
   "pygments_lexer": "ipython2",
   "version": "2.7.12"
  }
 },
 "nbformat": 4,
 "nbformat_minor": 2
}
