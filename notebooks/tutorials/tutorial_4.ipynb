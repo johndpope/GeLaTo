{
 "cells": [
  {
   "cell_type": "markdown",
   "metadata": {},
   "source": [
    "# Tutorial 4: 2D Poisson example using Vale\n",
    "\n",
    "In this tutorial, we explain how to use both **GLT** and **Vale**.\n",
    "\n",
    "Let's start with some imports"
   ]
  },
  {
   "cell_type": "code",
   "execution_count": 13,
   "metadata": {
    "collapsed": true
   },
   "outputs": [],
   "source": [
    "%matplotlib inline\n",
    "import matplotlib.pyplot as plt\n",
    "\n",
    "from vale import construct_model\n",
    "import numpy as np\n",
    "import os\n",
    "import clapp.common.utils      as clapp_utils\n",
    "\n",
    "# ... initializing Clapp\n",
    "clapp_utils.initialize()\n",
    "# ..."
   ]
  },
  {
   "cell_type": "markdown",
   "metadata": {},
   "source": [
    "Don't forget to *initialize* clapp (we will be using **LUA** as a backend to run our weak formulation kernels).\n",
    "\n",
    "To make the code easier to use, we need to define the following function, that creates and assembles the linear system given a **Vale** file."
   ]
  },
  {
   "cell_type": "code",
   "execution_count": 14,
   "metadata": {
    "collapsed": true
   },
   "outputs": [],
   "source": [
    "# ...\n",
    "def construct_form(filename, mapping, discretization):\n",
    "    # ... clean input directory. needed for Fortran\n",
    "    cmd = \"rm -rf input\"\n",
    "    os.system(cmd)\n",
    "    # ...\n",
    "\n",
    "    # ... creates discretization parameters\n",
    "    from clapp.disco.parameters.bspline import BSpline\n",
    "\n",
    "    bspline_params = BSpline(discretization[\"n_elements\"], \\\n",
    "                             discretization[\"degrees\"], \\\n",
    "                             bc_min=[0,0], \\\n",
    "                             bc_max=[0,0])\n",
    "    # ...\n",
    "\n",
    "    # ... create a context from discretization\n",
    "    from clapp.fema.context        import Context\n",
    "\n",
    "    context = Context(dirname=\"input\", \\\n",
    "                      discretization_params=bspline_params)\n",
    "    # ...\n",
    "\n",
    "    # ...\n",
    "    pde = construct_model(filename, backend=\"clapp\", \\\n",
    "                          context=context, mapping=mapping)\n",
    "    # ...\n",
    "\n",
    "    # ... accessing the pde declarations\n",
    "    V           = pde[\"V\"]\n",
    "    form_a      = pde[\"a\"]\n",
    "    # ...\n",
    "\n",
    "    # ... gets the assembler and matrix associated to the weak formulation.\n",
    "    assembler_a = form_a.assembler\n",
    "    matrix      = form_a.matrix\n",
    "    # ...\n",
    "\n",
    "    # ... assembling the linear system\n",
    "    assembler_a.assemble()\n",
    "    # ...\n",
    "    \n",
    "    # ... clean input directory\n",
    "    cmd = \"rm -rf input\"\n",
    "    os.system(cmd)\n",
    "    # ...\n",
    "    \n",
    "    return form_a\n",
    "# ..."
   ]
  },
  {
   "cell_type": "markdown",
   "metadata": {},
   "source": [
    "We use **CAID** to create the geometry, then convert it to the *mapping* object from *CLAPP*"
   ]
  },
  {
   "cell_type": "code",
   "execution_count": 15,
   "metadata": {
    "collapsed": true
   },
   "outputs": [],
   "source": [
    "# ... creates a unit square geometry using CAID\n",
    "from caid.cad_geometry import square\n",
    "geometry = square()\n",
    "# ...\n",
    "    \n",
    "# ...\n",
    "from clapp.spl.mapping import Mapping\n",
    "mapping = Mapping(geometry=geometry)\n",
    "# ..."
   ]
  },
  {
   "cell_type": "markdown",
   "metadata": {},
   "source": [
    "We specify the discretization, by giving the number of elements and spline degrees in every direction"
   ]
  },
  {
   "cell_type": "code",
   "execution_count": 16,
   "metadata": {
    "collapsed": true
   },
   "outputs": [],
   "source": [
    "# ... define a discretization\n",
    "discretization = {\"n_elements\": [32,32], \\\n",
    "                  \"degrees\": [2,2]}\n",
    "# ..."
   ]
  },
  {
   "cell_type": "markdown",
   "metadata": {},
   "source": [
    "We use our user-friendly **construct_form** function to create and assemble the linear system"
   ]
  },
  {
   "cell_type": "code",
   "execution_count": 17,
   "metadata": {
    "collapsed": true
   },
   "outputs": [],
   "source": [
    "# ... discretize the bilinear form\n",
    "form = construct_form(filename=\"../../gelato/tests/2d/inputs/poisson.vl\", \\\n",
    "                      mapping=mapping, \\\n",
    "                      discretization=discretization)\n",
    "# ..."
   ]
  },
  {
   "cell_type": "markdown",
   "metadata": {},
   "source": [
    "Rather than calling the **glt_symbol** function we now use the function **glt_symbol_from_weak_formulation** (first without evaluation)"
   ]
  },
  {
   "cell_type": "code",
   "execution_count": 19,
   "metadata": {
    "collapsed": true
   },
   "outputs": [],
   "source": [
    "# ... compute the glt symbol without evaluation\n",
    "from gelato.expression import glt_symbol_from_weak_formulation\n",
    "\n",
    "expr = glt_symbol_from_weak_formulation(form, \\\n",
    "                       verbose=False, evaluate=False, \\\n",
    "                       discretization=discretization)\n",
    "# ..."
   ]
  },
  {
   "cell_type": "markdown",
   "metadata": {},
   "source": [
    "Let's print the *Latex* formula of our symbol"
   ]
  },
  {
   "cell_type": "code",
   "execution_count": 20,
   "metadata": {},
   "outputs": [
    {
     "data": {
      "text/latex": [
       "$$\\mathfrak{m}_p(\\theta_1) \\mathfrak{s}_p(\\theta_2) + \\mathfrak{m}_p(\\theta_2) \\mathfrak{s}_p(\\theta_1)$$"
      ],
      "text/plain": [
       "<IPython.core.display.Math object>"
      ]
     },
     "execution_count": 20,
     "metadata": {},
     "output_type": "execute_result"
    }
   ],
   "source": [
    "from IPython.display import Math;\n",
    "from gelato.printing.latex import glt_latex;\n",
    "\n",
    "Math(glt_latex(expr))"
   ]
  },
  {
   "cell_type": "markdown",
   "metadata": {},
   "source": [
    "Let's now **evaluate** our symbol (in the symbolic sens) in order to do some diagnostics"
   ]
  },
  {
   "cell_type": "code",
   "execution_count": 21,
   "metadata": {
    "collapsed": true
   },
   "outputs": [],
   "source": [
    "# ... compute the glt symbol and evaluate it\n",
    "expr = glt_symbol_from_weak_formulation(form, \\\n",
    "                                        verbose=False, evaluate=True, \\\n",
    "                                        discretization=discretization)\n",
    "# ..."
   ]
  },
  {
   "cell_type": "code",
   "execution_count": 22,
   "metadata": {},
   "outputs": [
    {
     "data": {
      "text/latex": [
       "$$\\left(- \\frac{64}{3} \\cos{\\left (\\theta_1 \\right )} - \\frac{32}{3} \\cos{\\left (2 \\theta_1 \\right )} + 32\\right) \\left(\\frac{13}{960} \\cos{\\left (\\theta_2 \\right )} + \\frac{1}{1920} \\cos{\\left (2 \\theta_2 \\right )} + \\frac{11}{640}\\right) + \\left(\\frac{13}{960} \\cos{\\left (\\theta_1 \\right )} + \\frac{1}{1920} \\cos{\\left (2 \\theta_1 \\right )} + \\frac{11}{640}\\right) \\left(- \\frac{64}{3} \\cos{\\left (\\theta_2 \\right )} - \\frac{32}{3} \\cos{\\left (2 \\theta_2 \\right )} + 32\\right)$$"
      ],
      "text/plain": [
       "<IPython.core.display.Math object>"
      ]
     },
     "execution_count": 22,
     "metadata": {},
     "output_type": "execute_result"
    }
   ],
   "source": [
    "from sympy import latex\n",
    "from gelato.printing.latex import glt_latex_names\n",
    "\n",
    "Math(latex(expr, symbol_names=glt_latex_names()))"
   ]
  },
  {
   "cell_type": "markdown",
   "metadata": {},
   "source": [
    "Finally, we can plot the eigenvalues of the linear system together with their approximation, using a uniform sampling of the symbol"
   ]
  },
  {
   "cell_type": "code",
   "execution_count": 11,
   "metadata": {},
   "outputs": [
    {
     "data": {
      "image/png": "[encoded data removed]",
      "text/plain": [
       "<matplotlib.figure.Figure at 0x7f189d409290>"
      ]
     },
     "metadata": {},
     "output_type": "display_data"
    }
   ],
   "source": [
    "# ...\n",
    "from gelato.expression import glt_plot_eigenvalues\n",
    "\n",
    "glt_plot_eigenvalues(expr, discretization, \\\n",
    "                     mapping=mapping, \\\n",
    "                     matrix=form.matrix)\n",
    "\n",
    "plt.legend(loc=2);\n",
    "# ..."
   ]
  },
  {
   "cell_type": "markdown",
   "metadata": {},
   "source": [
    "Always remember to clean your session by calling the finalize function from *CLAPP*"
   ]
  },
  {
   "cell_type": "code",
   "execution_count": 23,
   "metadata": {
    "collapsed": true
   },
   "outputs": [],
   "source": [
    "# ... Finalizing Clapp\n",
    "clapp_utils.finalize()\n",
    "# ..."
   ]
  },
  {
   "cell_type": "code",
   "execution_count": null,
   "metadata": {
    "collapsed": true
   },
   "outputs": [],
   "source": []
  }
 ],
 "metadata": {
  "kernelspec": {
   "display_name": "Python 2",
   "language": "python",
   "name": "python2"
  },
  "language_info": {
   "codemirror_mode": {
    "name": "ipython",
    "version": 2
   },
   "file_extension": ".py",
   "mimetype": "text/x-python",
   "name": "python",
   "nbconvert_exporter": "python",
   "pygments_lexer": "ipython2",
   "version": "2.7.6"
  }
 },
 "nbformat": 4,
 "nbformat_minor": 2
}
