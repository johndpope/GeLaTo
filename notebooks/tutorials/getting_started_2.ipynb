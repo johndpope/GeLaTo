{
 "cells": [
  {
   "cell_type": "code",
   "execution_count": 1,
   "metadata": {
    "collapsed": true
   },
   "outputs": [],
   "source": [
    "from glt.expression import glt_symbol"
   ]
  },
  {
   "cell_type": "code",
   "execution_count": 2,
   "metadata": {
    "collapsed": true
   },
   "outputs": [],
   "source": [
    "discretization = {\"n_elements\": [16, 16], \"degrees\": [2,2]}"
   ]
  },
  {
   "cell_type": "code",
   "execution_count": 11,
   "metadata": {},
   "outputs": [],
   "source": [
    "expr = {}\n",
    "expr[0,0] = \"Ni_x * Nj_x + Ni_y * Nj_y\"\n",
    "expr[0,1] = \"Ni_x * Nj_y\"\n",
    "expr[1,0] = \"Ni_y * Nj_x\""
   ]
  },
  {
   "cell_type": "code",
   "execution_count": 12,
   "metadata": {},
   "outputs": [
    {
     "name": "stdout",
     "output_type": "stream",
     "text": [
      ">>>> key : (0, 1)\n",
      ">>>> key : (1, 0)\n",
      ">>>> key : (0, 0)\n"
     ]
    }
   ],
   "source": [
    "expr = glt_symbol(expr, dim=2, \\\n",
    "                  verbose=False, evaluate=False, \\\n",
    "                  discretization=discretization)"
   ]
  },
  {
   "cell_type": "code",
   "execution_count": 13,
   "metadata": {},
   "outputs": [
    {
     "name": "stdout",
     "output_type": "stream",
     "text": [
      "Matrix([[m1*s2 + m2*s1, -a1*a2], [-a1*a2, 0]])\n"
     ]
    }
   ],
   "source": [
    "print expr"
   ]
  },
  {
   "cell_type": "code",
   "execution_count": 14,
   "metadata": {
    "collapsed": true
   },
   "outputs": [],
   "source": [
    "from glt.expression import glt_latex"
   ]
  },
  {
   "cell_type": "code",
   "execution_count": 15,
   "metadata": {
    "collapsed": true
   },
   "outputs": [],
   "source": [
    "from IPython.display import Math"
   ]
  },
  {
   "cell_type": "code",
   "execution_count": 16,
   "metadata": {},
   "outputs": [
    {
     "data": {
      "text/latex": [
       "$$\\left[\\begin{matrix}\\mathfrak{m}_p(\\theta_1) \\mathfrak{s}_p(\\theta_2) + \\mathfrak{m}_p(\\theta_2) \\mathfrak{s}_p(\\theta_1) & - \\mathfrak{a}_p(\\theta_1) \\mathfrak{a}_p(\\theta_2)\\\\- \\mathfrak{a}_p(\\theta_1) \\mathfrak{a}_p(\\theta_2) & 0\\end{matrix}\\right]$$"
      ],
      "text/plain": [
       "<IPython.core.display.Math object>"
      ]
     },
     "execution_count": 16,
     "metadata": {},
     "output_type": "execute_result"
    }
   ],
   "source": [
    "Math(glt_latex(expr))"
   ]
  },
  {
   "cell_type": "code",
   "execution_count": 17,
   "metadata": {
    "collapsed": true
   },
   "outputs": [],
   "source": [
    "eigs = expr.eigenvals()"
   ]
  },
  {
   "cell_type": "code",
   "execution_count": 18,
   "metadata": {
    "collapsed": true
   },
   "outputs": [],
   "source": [
    "from sympy import latex"
   ]
  },
  {
   "cell_type": "code",
   "execution_count": 21,
   "metadata": {},
   "outputs": [
    {
     "data": {
      "text/latex": [
       "$$\\left \\{ \\frac{m_{1} s_{2}}{2} + \\frac{m_{2} s_{1}}{2} - \\frac{1}{2} \\sqrt{4 a_{1}^{2} a_{2}^{2} + m_{1}^{2} s_{2}^{2} + 2 m_{1} m_{2} s_{1} s_{2} + m_{2}^{2} s_{1}^{2}} : 1, \\quad \\frac{m_{1} s_{2}}{2} + \\frac{m_{2} s_{1}}{2} + \\frac{1}{2} \\sqrt{4 a_{1}^{2} a_{2}^{2} + m_{1}^{2} s_{2}^{2} + 2 m_{1} m_{2} s_{1} s_{2} + m_{2}^{2} s_{1}^{2}} : 1\\right \\}$$"
      ],
      "text/plain": [
       "<IPython.core.display.Math object>"
      ]
     },
     "execution_count": 21,
     "metadata": {},
     "output_type": "execute_result"
    }
   ],
   "source": [
    "Math(latex(eigs))"
   ]
  },
  {
   "cell_type": "code",
   "execution_count": null,
   "metadata": {
    "collapsed": true
   },
   "outputs": [],
   "source": []
  }
 ],
 "metadata": {
  "kernelspec": {
   "display_name": "Python 2",
   "language": "python",
   "name": "python2"
  },
  "language_info": {
   "codemirror_mode": {
    "name": "ipython",
    "version": 2
   },
   "file_extension": ".py",
   "mimetype": "text/x-python",
   "name": "python",
   "nbconvert_exporter": "python",
   "pygments_lexer": "ipython2",
   "version": "2.7.12"
  }
 },
 "nbformat": 4,
 "nbformat_minor": 2
}
